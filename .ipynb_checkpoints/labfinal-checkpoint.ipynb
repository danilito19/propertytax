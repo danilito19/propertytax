{
 "cells": [
  {
   "cell_type": "markdown",
   "metadata": {},
   "source": [
    "### DANI LITOVSKY ALCALA\n",
    "### Chicago Tribute Policy Lab "
   ]
  },
  {
   "cell_type": "markdown",
   "metadata": {},
   "source": [
    "I spent about 50% of my time during the quarter analyzing the property appeals and sales data. The rest of the time I spent working on merging data. This document will provide all the code for the analysis. **A separate .py file will have the script for the final data merge.**\n",
    "\n",
    "Please note that this notebook doesn't include every single analysis and line of code I did. These are the final, most useful ones and the most useful functions I composed."
   ]
  },
  {
   "cell_type": "markdown",
   "metadata": {},
   "source": [
    "### Appeals Analysis"
   ]
  },
  {
   "cell_type": "code",
   "execution_count": 2,
   "metadata": {
    "collapsed": false
   },
   "outputs": [
    {
     "name": "stderr",
     "output_type": "stream",
     "text": [
      "/usr/local/lib/python2.7/site-packages/matplotlib/font_manager.py:273: UserWarning: Matplotlib is building the font cache using fc-list. This may take a moment.\n",
      "  warnings.warn('Matplotlib is building the font cache using fc-list. This may take a moment.')\n"
     ]
    }
   ],
   "source": [
    "import pandas as pd\n",
    "import csv\n",
    "import numpy as np \n",
    "import matplotlib.pyplot as plt\n",
    "%matplotlib inline  \n",
    "import pylab\n",
    "import os\n",
    "import glob"
   ]
  },
  {
   "cell_type": "markdown",
   "metadata": {},
   "source": [
    "### At the beginning of the quarter, I added a clean_name column for others to use. Here is the code for that:"
   ]
  },
  {
   "cell_type": "code",
   "execution_count": null,
   "metadata": {
    "collapsed": true
   },
   "outputs": [],
   "source": [
    "def add_clean_name(df, file):\n",
    "    try:\n",
    "        df['clean_name']\n",
    "        print \"Clean column already exists in file \" + file[54:]\n",
    "\n",
    "    except KeyError:\n",
    "        df[\"clean_name\"] = df[\"attorneytaxrep\"].str.replace(\"\\.|\\s|,\", \"\")\n",
    "        print \"FINISHED cleaning lawyer names for file \" + file[54:]\n",
    "\n",
    "    return df\n",
    "\n",
    "path = \"your/path!\"\n",
    "files = glob.glob(path + \"/*.csv\")\n",
    "for f in files:\n",
    "    df = pd.read_csv(f,index_col=None, header=0)\n",
    "    df = add_clean_name(df, f)\n",
    "    df.to_csv(path + f[54:])"
   ]
  },
  {
   "cell_type": "markdown",
   "metadata": {},
   "source": [
    "### Other useful functions"
   ]
  },
  {
   "cell_type": "code",
   "execution_count": 7,
   "metadata": {
    "collapsed": true
   },
   "outputs": [],
   "source": [
    "## useful functions\n",
    "def clean(name, remove_spaces=True):\n",
    "    '''\n",
    "    Given a name string, return a clean name \n",
    "    that is lowercase and only alphabetic characters.\n",
    "\n",
    "    If remove_spaces,\n",
    "        returns \"starbuckscoffeeco\"\n",
    "    if remove_spaces is False\n",
    "        return \"starbucks coffee co\"\n",
    "    '''\n",
    "    lower = name.lower()\n",
    "    if not remove_spaces:\n",
    "        p = re.sub(r'\\(([^\\)]+)\\)', '', lower)\n",
    "        return re.sub(r'[^a-z ]', '', p).strip()\n",
    "\n",
    "    else:\n",
    "        p = re.sub(r'\\(([^\\)]+)\\)', '', lower)\n",
    "        return re.sub(r'[^a-z]', '', lower)\n",
    "    \n",
    "def print_statistics(data):\n",
    "    '''\n",
    "    Given a pandas dataframe, print dataframe statistics, correlation, and missing data.\n",
    "    '''\n",
    "    pd.set_option('display.width', 20)\n",
    "    pd.set_option('display.float_format', lambda x: '%.3f' % x)\n",
    "    print '**** column names:  ', \"\\n\", data.columns.values\n",
    "    #print '**** top of the data: ', \"\\n\",  data.head()\n",
    "    #print '**** dataframe shape: ', \"\\n\", data.shape\n",
    "    print '**** statistics: ', \"\\n\", data.describe(include='all')\n",
    "    #print '**** MODE: ', \"\\n\", data.mode()\n",
    "    print '**** sum of null values by column: ', \"\\n\", data.isnull().sum()\n",
    "    print '**** correlation matrix: ', \"\\n\", data.corr()"
   ]
  },
  {
   "cell_type": "code",
   "execution_count": 3,
   "metadata": {
    "collapsed": false
   },
   "outputs": [
    {
     "name": "stdout",
     "output_type": "stream",
     "text": [
      "DONE CONCATINATING DATA\n"
     ]
    }
   ],
   "source": [
    "## concatenating all appeals years\n",
    "path = \"/Users/Dani/Dropbox/Muni_Finance_Lab/Raw_Data/Appeals\"\n",
    "\n",
    "files = glob.glob(path + \"/*.csv\")\n",
    "frame = pd.DataFrame()\n",
    "\n",
    "list_ = []\n",
    "for file_ in files:\n",
    "    df = pd.read_csv(file_,index_col=None, header=0)\n",
    "    list_.append(df)\n",
    "df = pd.concat(list_)\n",
    "\n",
    "print \"DONE CONCATINATING DATA\""
   ]
  },
  {
   "cell_type": "code",
   "execution_count": 5,
   "metadata": {
    "collapsed": false
   },
   "outputs": [
    {
     "name": "stdout",
     "output_type": "stream",
     "text": [
      "(2607270, 25)\n"
     ]
    },
    {
     "data": {
      "text/html": [
       "<div>\n",
       "<table border=\"1\" class=\"dataframe\">\n",
       "  <thead>\n",
       "    <tr style=\"text-align: right;\">\n",
       "      <th></th>\n",
       "      <th>Unnamed: 0</th>\n",
       "      <th>pin</th>\n",
       "      <th>taxyear</th>\n",
       "      <th>appealnum</th>\n",
       "      <th>attorneytaxrep</th>\n",
       "      <th>prioir_av</th>\n",
       "      <th>proppose_av</th>\n",
       "      <th>assr_final</th>\n",
       "      <th>board_av</th>\n",
       "      <th>housenum</th>\n",
       "      <th>...</th>\n",
       "      <th>area</th>\n",
       "      <th>subarea</th>\n",
       "      <th>ass_win</th>\n",
       "      <th>bor_win</th>\n",
       "      <th>bor_rev</th>\n",
       "      <th>assr_rev</th>\n",
       "      <th>total_rev</th>\n",
       "      <th>classification</th>\n",
       "      <th>win</th>\n",
       "      <th>clean_name</th>\n",
       "    </tr>\n",
       "  </thead>\n",
       "  <tbody>\n",
       "    <tr>\n",
       "      <th>0</th>\n",
       "      <td>0</td>\n",
       "      <td>1011010200000</td>\n",
       "      <td>2003</td>\n",
       "      <td>164</td>\n",
       "      <td>KEARNEY &amp; PHELAN, LTD.</td>\n",
       "      <td>59618</td>\n",
       "      <td>59618</td>\n",
       "      <td>59618</td>\n",
       "      <td>48260</td>\n",
       "      <td>117</td>\n",
       "      <td>...</td>\n",
       "      <td>1</td>\n",
       "      <td>101</td>\n",
       "      <td>0</td>\n",
       "      <td>1</td>\n",
       "      <td>11358</td>\n",
       "      <td>0</td>\n",
       "      <td>11358</td>\n",
       "      <td>517</td>\n",
       "      <td>1</td>\n",
       "      <td>KEARNEY&amp;PHELANLTD</td>\n",
       "    </tr>\n",
       "    <tr>\n",
       "      <th>1</th>\n",
       "      <td>1</td>\n",
       "      <td>1011020010000</td>\n",
       "      <td>2003</td>\n",
       "      <td>142</td>\n",
       "      <td>RIEFF &amp; SCHRAMM</td>\n",
       "      <td>114882</td>\n",
       "      <td>114882</td>\n",
       "      <td>114882</td>\n",
       "      <td>114882</td>\n",
       "      <td>105</td>\n",
       "      <td>...</td>\n",
       "      <td>1</td>\n",
       "      <td>101</td>\n",
       "      <td>0</td>\n",
       "      <td>0</td>\n",
       "      <td>0</td>\n",
       "      <td>0</td>\n",
       "      <td>0</td>\n",
       "      <td>592</td>\n",
       "      <td>0</td>\n",
       "      <td>RIEFF&amp;SCHRAMM</td>\n",
       "    </tr>\n",
       "    <tr>\n",
       "      <th>2</th>\n",
       "      <td>2</td>\n",
       "      <td>1011020050000</td>\n",
       "      <td>2003</td>\n",
       "      <td>142</td>\n",
       "      <td>RIEFF &amp; SCHRAMM</td>\n",
       "      <td>124517</td>\n",
       "      <td>124517</td>\n",
       "      <td>124517</td>\n",
       "      <td>124517</td>\n",
       "      <td>207</td>\n",
       "      <td>...</td>\n",
       "      <td>1</td>\n",
       "      <td>101</td>\n",
       "      <td>0</td>\n",
       "      <td>0</td>\n",
       "      <td>0</td>\n",
       "      <td>0</td>\n",
       "      <td>0</td>\n",
       "      <td>592</td>\n",
       "      <td>0</td>\n",
       "      <td>RIEFF&amp;SCHRAMM</td>\n",
       "    </tr>\n",
       "    <tr>\n",
       "      <th>3</th>\n",
       "      <td>3</td>\n",
       "      <td>1011030020000</td>\n",
       "      <td>2003</td>\n",
       "      <td>145</td>\n",
       "      <td>EUGENE L. GRIFFIN &amp; ASSOCIATES</td>\n",
       "      <td>492099</td>\n",
       "      <td>871480</td>\n",
       "      <td>563336</td>\n",
       "      <td>492097</td>\n",
       "      <td>257</td>\n",
       "      <td>...</td>\n",
       "      <td>1</td>\n",
       "      <td>101</td>\n",
       "      <td>1</td>\n",
       "      <td>1</td>\n",
       "      <td>71239</td>\n",
       "      <td>308144</td>\n",
       "      <td>379383</td>\n",
       "      <td>591</td>\n",
       "      <td>1</td>\n",
       "      <td>EUGENELGRIFFIN&amp;ASSOCIATES</td>\n",
       "    </tr>\n",
       "    <tr>\n",
       "      <th>4</th>\n",
       "      <td>4</td>\n",
       "      <td>1011030030000</td>\n",
       "      <td>2003</td>\n",
       "      <td>26</td>\n",
       "      <td>MCCRACKEN,WALSH,DELAVEN &amp; HETLER</td>\n",
       "      <td>321977</td>\n",
       "      <td>609040</td>\n",
       "      <td>386419</td>\n",
       "      <td>386419</td>\n",
       "      <td>301</td>\n",
       "      <td>...</td>\n",
       "      <td>1</td>\n",
       "      <td>101</td>\n",
       "      <td>1</td>\n",
       "      <td>0</td>\n",
       "      <td>0</td>\n",
       "      <td>222621</td>\n",
       "      <td>222621</td>\n",
       "      <td>592</td>\n",
       "      <td>1</td>\n",
       "      <td>MCCRACKENWALSHDELAVEN&amp;HETLER</td>\n",
       "    </tr>\n",
       "  </tbody>\n",
       "</table>\n",
       "<p>5 rows × 25 columns</p>\n",
       "</div>"
      ],
      "text/plain": [
       "   Unnamed: 0            pin  taxyear  appealnum  \\\n",
       "0           0  1011010200000     2003        164   \n",
       "1           1  1011020010000     2003        142   \n",
       "2           2  1011020050000     2003        142   \n",
       "3           3  1011030020000     2003        145   \n",
       "4           4  1011030030000     2003         26   \n",
       "\n",
       "                     attorneytaxrep  prioir_av  proppose_av  assr_final  \\\n",
       "0            KEARNEY & PHELAN, LTD.      59618        59618       59618   \n",
       "1                   RIEFF & SCHRAMM     114882       114882      114882   \n",
       "2                   RIEFF & SCHRAMM     124517       124517      124517   \n",
       "3    EUGENE L. GRIFFIN & ASSOCIATES     492099       871480      563336   \n",
       "4  MCCRACKEN,WALSH,DELAVEN & HETLER     321977       609040      386419   \n",
       "\n",
       "   board_av  housenum              ...              area subarea ass_win  \\\n",
       "0     48260       117              ...                 1     101       0   \n",
       "1    114882       105              ...                 1     101       0   \n",
       "2    124517       207              ...                 1     101       0   \n",
       "3    492097       257              ...                 1     101       1   \n",
       "4    386419       301              ...                 1     101       1   \n",
       "\n",
       "  bor_win  bor_rev  assr_rev  total_rev  classification  win  \\\n",
       "0       1    11358         0      11358             517    1   \n",
       "1       0        0         0          0             592    0   \n",
       "2       0        0         0          0             592    0   \n",
       "3       1    71239    308144     379383             591    1   \n",
       "4       0        0    222621     222621             592    1   \n",
       "\n",
       "                     clean_name  \n",
       "0             KEARNEY&PHELANLTD  \n",
       "1                 RIEFF&SCHRAMM  \n",
       "2                 RIEFF&SCHRAMM  \n",
       "3     EUGENELGRIFFIN&ASSOCIATES  \n",
       "4  MCCRACKENWALSHDELAVEN&HETLER  \n",
       "\n",
       "[5 rows x 25 columns]"
      ]
     },
     "execution_count": 5,
     "metadata": {},
     "output_type": "execute_result"
    }
   ],
   "source": [
    "print df.shape\n",
    "df.head()"
   ]
  },
  {
   "cell_type": "code",
   "execution_count": 6,
   "metadata": {
    "collapsed": false
   },
   "outputs": [
    {
     "name": "stderr",
     "output_type": "stream",
     "text": [
      "/Library/Python/2.7/site-packages/ipykernel/__main__.py:5: SettingWithCopyWarning: \n",
      "A value is trying to be set on a copy of a slice from a DataFrame.\n",
      "Try using .loc[row_indexer,col_indexer] = value instead\n",
      "\n",
      "See the the caveats in the documentation: http://pandas.pydata.org/pandas-docs/stable/indexing.html#indexing-view-versus-copy\n",
      "/Library/Python/2.7/site-packages/ipykernel/__main__.py:7: SettingWithCopyWarning: \n",
      "A value is trying to be set on a copy of a slice from a DataFrame.\n",
      "Try using .loc[row_indexer,col_indexer] = value instead\n",
      "\n",
      "See the the caveats in the documentation: http://pandas.pydata.org/pandas-docs/stable/indexing.html#indexing-view-versus-copy\n"
     ]
    }
   ],
   "source": [
    "### filter ONLY for % revision\n",
    "df = df[df[\"proppose_av\"] != 0]\n",
    "\n",
    "## Creating dfs\n",
    "df[\"%_rev\"] = df[\"total_rev\"] / df[\"proppose_av\"]\n",
    "df15 = pd.read_csv(path + \"/appeals15.csv\",index_col=None, header=0)\n",
    "df[\"class_type\"] = df[\"classification\"].apply(lambda x: str(x)[0])\n",
    "df_2_5 = df[(df[\"class_type\"] == \"2\") | (df[\"class_type\"] == \"5\")]\n",
    "df_2 = df[(df[\"class_type\"] == \"2\")]\n",
    "df_5 = df[(df[\"class_type\"] == \"5\")]"
   ]
  },
  {
   "cell_type": "code",
   "execution_count": 8,
   "metadata": {
    "collapsed": false
   },
   "outputs": [
    {
     "data": {
      "text/plain": [
       "1"
      ]
     },
     "execution_count": 8,
     "metadata": {},
     "output_type": "execute_result"
    }
   ],
   "source": [
    "df15[\"attorneytaxrep\"].str.replace(\"\\.|\\s\", \"\")"
   ]
  },
  {
   "cell_type": "markdown",
   "metadata": {},
   "source": [
    "### Appeals per year"
   ]
  },
  {
   "cell_type": "code",
   "execution_count": 9,
   "metadata": {
    "collapsed": false
   },
   "outputs": [
    {
     "data": {
      "text/plain": [
       "<matplotlib.text.Text at 0x113dc4c90>"
      ]
     },
     "execution_count": 9,
     "metadata": {},
     "output_type": "execute_result"
    },
    {
     "data": {
      "image/png": "[encoded data removed]",
      "text/plain": [
       "<matplotlib.figure.Figure at 0x114cad6d0>"
      ]
     },
     "metadata": {},
     "output_type": "display_data"
    }
   ],
   "source": [
    "ax = pd.value_counts(df[\"taxyear\"], sort=False).plot(kind = \"bar\", title = \"Count of appeals per year\")\n",
    "plt.tight_layout()\n",
    "ax.set_ylabel(\"# Appeals\")\n",
    "#plt.savefig(os.getcwd()  + \"/results/appeals-per-year.png\")"
   ]
  },
  {
   "cell_type": "code",
   "execution_count": 10,
   "metadata": {
    "collapsed": false
   },
   "outputs": [
    {
     "data": {
      "image/png": "[encoded data removed]",
      "text/plain": [
       "<matplotlib.figure.Figure at 0x113f12150>"
      ]
     },
     "metadata": {},
     "output_type": "display_data"
    }
   ],
   "source": [
    "df_2_5.groupby(['taxyear','class_type']).size().unstack().plot(kind = \"bar\", stacked=True)\n",
    "plt.tight_layout()\n",
    "#plt.savefig(os.getcwd() + \"/results/appeals-class2-5.png\")"
   ]
  },
  {
   "cell_type": "code",
   "execution_count": 11,
   "metadata": {
    "collapsed": false
   },
   "outputs": [
    {
     "name": "stderr",
     "output_type": "stream",
     "text": [
      "/Library/Python/2.7/site-packages/ipykernel/__main__.py:3: SettingWithCopyWarning: \n",
      "A value is trying to be set on a copy of a slice from a DataFrame.\n",
      "Try using .loc[row_indexer,col_indexer] = value instead\n",
      "\n",
      "See the the caveats in the documentation: http://pandas.pydata.org/pandas-docs/stable/indexing.html#indexing-view-versus-copy\n",
      "  app.launch_new_instance()\n"
     ]
    }
   ],
   "source": [
    "# condos = 299\n",
    "# create new variable of condo, not condo\n",
    "df_2[\"condo\"] = np.where(df_2['classification'] == 299, 1, 0)"
   ]
  },
  {
   "cell_type": "code",
   "execution_count": 12,
   "metadata": {
    "collapsed": false
   },
   "outputs": [
    {
     "data": {
      "image/png": "[encoded data removed]",
      "text/plain": [
       "<matplotlib.figure.Figure at 0x110b24a50>"
      ]
     },
     "metadata": {},
     "output_type": "display_data"
    }
   ],
   "source": [
    "df_2.groupby(['taxyear','classification']).size().unstack().plot(kind = \"bar\", stacked=True)\n",
    "lgd = plt.legend(bbox_to_anchor=(1.05, 1), loc=2, borderaxespad=0., ncol = 5)\n",
    "#plt.savefig(os.getcwd() + \"/results/appeals-condo.png\", bbox_extra_artists=(lgd,), bbox_inches='tight')\n"
   ]
  },
  {
   "cell_type": "markdown",
   "metadata": {},
   "source": [
    "## Below we can compute according to TRI, given tax data has been merged in:"
   ]
  },
  {
   "cell_type": "code",
   "execution_count": 8,
   "metadata": {
    "collapsed": false
   },
   "outputs": [
    {
     "data": {
      "text/plain": [
       "Index([u'Unnamed: 0', u'pin', u'taxyear', u'appealnum', u'attorneytaxrep',\n",
       "       u'prioir_av', u'proppose_av', u'assr_final', u'board_av', u'housenum',\n",
       "       u'dir', u'street_name', u'street_suffix', u'city_name', u'zip', u'area',\n",
       "       u'subarea', u'ass_win', u'bor_win', u'bor_rev', u'assr_rev',\n",
       "       u'total_rev', u'classification', u'win', u'clean_name', u'%_rev',\n",
       "       u'class_type'],\n",
       "      dtype='object')"
      ]
     },
     "execution_count": 8,
     "metadata": {},
     "output_type": "execute_result"
    }
   ],
   "source": [
    "df.groupby(['taxyear','TRI']).size().unstack().plot(kind = \"bar\", stacked=True)\n",
    "plt.tight_layout()"
   ]
  },
  {
   "cell_type": "code",
   "execution_count": null,
   "metadata": {
    "collapsed": true
   },
   "outputs": [],
   "source": [
    "df.groupby(['taxyear_x','TRI']).mean()['%_rev'].unstack().plot(kind = \"bar\", stacked=True)\n",
    "lgd = plt.legend(bbox_to_anchor=(1.05, 1), loc=2, borderaxespad=0.)\n",
    "#plt.tight_layout()"
   ]
  },
  {
   "cell_type": "code",
   "execution_count": null,
   "metadata": {
    "collapsed": true
   },
   "outputs": [],
   "source": [
    "df_2.groupby(['taxyear','condo']).size().groupby(level=0).apply(lambda x: 100*x/float(x.sum())).unstack()"
   ]
  },
  {
   "cell_type": "code",
   "execution_count": null,
   "metadata": {
    "collapsed": true
   },
   "outputs": [],
   "source": [
    "def remove_dup_merge(df1_duplicates, df2, duplicate_cols, match_cols):\n",
    "    \"\"\" use with sales_df, appeals_df, [\"pin\"], [\"pin\"] \"\"\"\n",
    "    \n",
    "    df1_duplicates = df1_duplicates.drop_duplicates(duplicate_cols)\n",
    "    merged = df2.merge(df1_duplicates, on = match_cols, how = \"outer\")\n",
    "    \n",
    "    return merged\n",
    "\n",
    "def add_class_type_col(df, classif_column):\n",
    "    \"\"\"\n",
    "    in appeals data, classification column = classification\n",
    "    in sales data, classification column = bor_class\n",
    "    \"\"\"\n",
    "\n",
    "    df[\"class_type\"] = df[classif_column].apply(lambda x: str(x)[0])\n",
    "\n",
    "def keep_2_5_only(df):\n",
    "    final = df[(df[\"class_type\"] == \"2\") | (df[\"class_type\"] == \"5\")]\n",
    "    \n",
    "    return final\n",
    "\n",
    "def analysis_year(year):\n",
    "    # year == \n",
    "    path = \"/Users/Dani/Dropbox/Muni_Finance_Lab/Raw_Data/Appeals\"\n",
    "    appeals = pd.read_csv(path + \"/appeals%s.csv\" %year ,index_col=None, header=0)\n",
    "\n",
    "    path = \"/Users/Dani/Dropbox/Muni_Finance_Lab/Raw_Data/Sales_Ratios/1st_pass\"\n",
    "    sales = pd.read_csv(path + \"/res%s.csv\" %year)\n",
    "\n",
    "    df = remove_dup_merge(sales, appeals, [\"pin\"], [\"pin\"])\n",
    "\n",
    "    ##  homes that SOLD but didn't appeal - no appealsnum\n",
    "    a= df[pd.isnull(df['appealnum'])].shape\n",
    "\n",
    "    ## pin10 is only in sales data,  that APPEALED ONLY - no pin10\n",
    "    b = df[pd.isnull(df['pin10'])].shape\n",
    "\n",
    "    df['matched'] = np.where((pd.notnull(df[\"p1_majclass\"])) & (pd.notnull(df[\"appealnum\"])), 1, 0)\n",
    "\n",
    "    ## sold only \n",
    "    df['sold'] = np.where(pd.isnull(df[\"appealnum\"]), 1, 0)\n",
    "\n",
    "    print \"median netconsideration appealed \", df[df['matched'] == 1][\"NetConsideration\"].median()\n",
    "    print \"median netconsideration sold \", df[df['sold'] == 1][\"NetConsideration\"].median()\n",
    "    print \"median p1_valratio appealed \", df[df['matched'] == 1][\"p1_valratio\"].median()\n",
    "    print \"median p1_valratio sold \", df[df['sold'] == 1][\"p1_valratio\"].median()\n",
    "    \n",
    "\n",
    "\n",
    "    #those who won have a bit higher sales ratio\n",
    "    print \"median netcons for lost / won \", df[df['matched'] == 1].groupby([\"win\"])[\"NetConsideration\"].median()\n",
    "\n",
    "    # those who won have a higher netconsideration\n",
    "    print \"median p1_valratio for lost / won \", df[df['matched'] == 1].groupby([\"win\"])[\"p1_valratio\"].median()\n",
    "\n",
    "    # those who won have a higher propoose_av\n",
    "    print \"count for lost / won \", df[df['matched'] == 1].groupby([\"win\"])[\"NetConsideration\"].count()\n",
    "    \n",
    "    return df"
   ]
  },
  {
   "cell_type": "markdown",
   "metadata": {},
   "source": [
    "### Given the functions above, we can run a general analysis for all years\n",
    "\n",
    "#### just call the analysis_year function with a two digit year"
   ]
  },
  {
   "cell_type": "code",
   "execution_count": null,
   "metadata": {
    "collapsed": true
   },
   "outputs": [],
   "source": [
    "df15 = analysis_year(15)"
   ]
  },
  {
   "cell_type": "markdown",
   "metadata": {},
   "source": [
    "#### Code for the appeals-tax-sale-community data merge is in the data_merge.py file"
   ]
  }
 ],
 "metadata": {
  "kernelspec": {
   "display_name": "Python 2",
   "language": "python",
   "name": "python2"
  },
  "language_info": {
   "codemirror_mode": {
    "name": "ipython",
    "version": 2
   },
   "file_extension": ".py",
   "mimetype": "text/x-python",
   "name": "python",
   "nbconvert_exporter": "python",
   "pygments_lexer": "ipython2",
   "version": "2.7.10"
  }
 },
 "nbformat": 4,
 "nbformat_minor": 0
}
