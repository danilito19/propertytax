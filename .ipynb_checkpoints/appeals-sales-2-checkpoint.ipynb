{
 "cells": [
  {
   "cell_type": "code",
   "execution_count": 12,
   "metadata": {
    "collapsed": false
   },
   "outputs": [],
   "source": [
    "import pandas as pd\n",
    "import csv\n",
    "import numpy as np \n",
    "import matplotlib.pyplot as plt\n",
    "%matplotlib inline  \n",
    "import pylab\n",
    "import os\n",
    "import glob\n",
    "import statsmodels.api as sm\n",
    "\n",
    "#path = os.getcwd() \n",
    "\n",
    "path = \"/Users/Dani/Dropbox/Muni_Finance_Lab/Raw_Data/Appeals\"\n",
    "appeals15 = pd.read_csv(path + \"/appeals15.csv\",index_col=None, header=0)\n",
    "\n",
    "path = \"/Users/Dani/Dropbox/Muni_Finance_Lab/Raw_Data/Sales_Ratios\"\n",
    "sales15 = pd.read_csv(path + \"/res15.csv\")\n",
    "\n",
    "path = \"/Users/Dani/Dropbox/Muni_Finance_Lab/Raw_Data/Appeals\"\n",
    "appeals14 = pd.read_csv(path + \"/appeals14.csv\",index_col=None, header=0)\n",
    "\n",
    "path = \"/Users/Dani/Dropbox/Muni_Finance_Lab/Raw_Data/Sales_Ratios\"\n",
    "sales14 = pd.read_csv(path + \"/res14.csv\")"
   ]
  },
  {
   "cell_type": "code",
   "execution_count": 2,
   "metadata": {
    "collapsed": false
   },
   "outputs": [],
   "source": [
    "## functions\n",
    "\n",
    "def remove_dup_merge(df1_duplicates, df2, duplicate_cols, match_cols):\n",
    "    \"\"\" use with sales_df, appeals_df, [\"pin\"], [\"pin\"] \"\"\"\n",
    "    \n",
    "    df1_duplicates = df1_duplicates.drop_duplicates(duplicate_cols)\n",
    "    merged = df2.merge(df1_duplicates, on = match_cols, how = \"outer\")\n",
    "    \n",
    "    return merged\n",
    "\n",
    "def add_class_type_col(df, classif_column):\n",
    "    \"\"\"\n",
    "    in appeals data, classification column = classification\n",
    "    in sales data, classification column = bor_class\n",
    "    \"\"\"\n",
    "\n",
    "    df[\"class_type\"] = df[classif_column].apply(lambda x: str(x)[0])\n",
    "\n",
    "def keep_2_5_only(df):\n",
    "    final = df[(df[\"class_type\"] == \"2\") | (df[\"class_type\"] == \"5\")]\n",
    "    \n",
    "    return final\n"
   ]
  },
  {
   "cell_type": "code",
   "execution_count": 84,
   "metadata": {
    "collapsed": false
   },
   "outputs": [
    {
     "name": "stdout",
     "output_type": "stream",
     "text": [
      "DONE CONCATINATING ALL APPEALS\n"
     ]
    }
   ],
   "source": [
    "path = \"/Users/Dani/Dropbox/Muni_Finance_Lab/Raw_Data/Appeals\"\n",
    "files = glob.glob(path + \"/*.csv\")\n",
    "frame = pd.DataFrame()\n",
    "\n",
    "list_ = []\n",
    "for file_ in files:\n",
    "    df = pd.read_csv(file_,index_col=None, header=0)\n",
    "    list_.append(df)\n",
    "appeals = pd.concat(list_)\n",
    "\n",
    "print \"DONE CONCATINATING ALL APPEALS\""
   ]
  },
  {
   "cell_type": "code",
   "execution_count": 86,
   "metadata": {
    "collapsed": false
   },
   "outputs": [],
   "source": [
    "path = \"/Users/Dani/Dropbox/Muni_Finance_Lab/Raw_Data/Sales_Ratios\"\n",
    "sales = pd.read_csv(path + \"/sales_combined.csv\")"
   ]
  },
  {
   "cell_type": "code",
   "execution_count": 3,
   "metadata": {
    "collapsed": false
   },
   "outputs": [
    {
     "name": "stdout",
     "output_type": "stream",
     "text": [
      "(396946, 45)\n",
      "\n",
      "(26763, 45)\n",
      "(360620, 45)\n",
      "(9563, 45)\n",
      "dimensions MATCH CHRIS'S\n"
     ]
    }
   ],
   "source": [
    "## 2015 only \n",
    "#remove dup, merge, check types\n",
    "\n",
    "df15 = remove_dup_merge(sales15, appeals15, [\"pin\"], [\"pin\"])\n",
    "print df15.shape\n",
    "print\n",
    "\n",
    "##  homes that SOLD but didn't appeal - no appealsnum\n",
    "a= df15[pd.isnull(df15['appealnum'])].shape\n",
    "print a\n",
    "## pin10 is only in sales data,  that APPEALED ONLY - no pin10\n",
    "b = df15[pd.isnull(df15['pin10'])].shape\n",
    "print b\n",
    "##  properties that sold AND appealed\n",
    "c = df15[(pd.notnull(df15['appealnum'])) & (pd.notnull(df15['pin10']))].shape\n",
    "print c\n",
    "\n",
    "assert a[0] == 26763 and b[0] == 360620 and c[0] == 9563\n",
    "print \"dimensions MATCH CHRIS'S\""
   ]
  },
  {
   "cell_type": "code",
   "execution_count": 4,
   "metadata": {
    "collapsed": false,
    "scrolled": true
   },
   "outputs": [
    {
     "name": "stdout",
     "output_type": "stream",
     "text": [
      "(396946, 46)\n"
     ]
    },
    {
     "name": "stderr",
     "output_type": "stream",
     "text": [
      "/Library/Python/2.7/site-packages/ipykernel/__main__.py:17: SettingWithCopyWarning: \n",
      "A value is trying to be set on a copy of a slice from a DataFrame.\n",
      "Try using .loc[row_indexer,col_indexer] = value instead\n",
      "\n",
      "See the the caveats in the documentation: http://pandas.pydata.org/pandas-docs/stable/indexing.html#indexing-view-versus-copy\n"
     ]
    }
   ],
   "source": [
    "## 2015 ONLY\n",
    "### adding classification, keeping class 2 and 5\n",
    "\n",
    "df15['class_type'] = \"NA\"\n",
    "print df15.shape\n",
    "\n",
    "#SOLD\n",
    "classif_null = df15[pd.isnull(df15[\"classification\"])]\n",
    "add_class_type_col(classif_null, \"bor_class\")\n",
    "\n",
    "#APPEALED\n",
    "bor_null = df15[pd.isnull(df15[\"bor_class\"])]\n",
    "add_class_type_col(bor_null, \"classification\")\n",
    "\n",
    "matched = df15[(pd.notnull(df15[\"bor_class\"])) & (pd.notnull(df15[\"classification\"]))]\n",
    "add_class_type_col(matched, \"classification\")\n",
    "\n",
    "frames = [classif_null, bor_null, matched]\n",
    "\n",
    "result = pd.concat(frames)\n",
    "assert result.shape[0] == 396946\n",
    "\n",
    "df15_2_5 = keep_2_5_only(result)\n",
    "assert len(df15_2_5) > 10 #arbitrary\n",
    "\n"
   ]
  },
  {
   "cell_type": "code",
   "execution_count": 5,
   "metadata": {
    "collapsed": false
   },
   "outputs": [
    {
     "name": "stdout",
     "output_type": "stream",
     "text": [
      "(9563, 47)\n",
      "(26763, 48)\n"
     ]
    },
    {
     "name": "stderr",
     "output_type": "stream",
     "text": [
      "/Library/Python/2.7/site-packages/ipykernel/__main__.py:6: SettingWithCopyWarning: \n",
      "A value is trying to be set on a copy of a slice from a DataFrame.\n",
      "Try using .loc[row_indexer,col_indexer] = value instead\n",
      "\n",
      "See the the caveats in the documentation: http://pandas.pydata.org/pandas-docs/stable/indexing.html#indexing-view-versus-copy\n",
      "/Library/Python/2.7/site-packages/ipykernel/__main__.py:10: SettingWithCopyWarning: \n",
      "A value is trying to be set on a copy of a slice from a DataFrame.\n",
      "Try using .loc[row_indexer,col_indexer] = value instead\n",
      "\n",
      "See the the caveats in the documentation: http://pandas.pydata.org/pandas-docs/stable/indexing.html#indexing-view-versus-copy\n"
     ]
    }
   ],
   "source": [
    "# 2015 ONLY\n",
    "# Create dummy for matched = 1\n",
    "# dummy for sold only = 1\n",
    "\n",
    "## sold and appealed\n",
    "df15_2_5['matched'] = np.where((pd.notnull(df15_2_5[\"bor_class\"])) & (pd.notnull(df15_2_5[\"appealnum\"])), 1, 0)\n",
    "print df15_2_5[df15_2_5['matched']==1].shape\n",
    "\n",
    "## sold only \n",
    "df15_2_5['sold'] = np.where(pd.isnull(df15_2_5[\"appealnum\"]), 1, 0)\n",
    "print df15_2_5[df15_2_5['sold']==1].shape\n"
   ]
  },
  {
   "cell_type": "code",
   "execution_count": 6,
   "metadata": {
    "collapsed": false
   },
   "outputs": [
    {
     "name": "stdout",
     "output_type": "stream",
     "text": [
      "count       9563.000000\n",
      "mean      407025.967165\n",
      "std       386132.275547\n",
      "min        12700.000000\n",
      "25%       200000.000000\n",
      "50%       310000.000000\n",
      "75%       466000.000000\n",
      "max      5500000.000000\n",
      "Name: NetConsideration, dtype: float64\n",
      "count       26763.000000\n",
      "mean       329449.656317\n",
      "std        298015.275589\n",
      "min         10000.000000\n",
      "25%        165000.000000\n",
      "50%        250000.000000\n",
      "75%        390000.000000\n",
      "max      10375000.000000\n",
      "Name: NetConsideration, dtype: float64\n"
     ]
    }
   ],
   "source": [
    "## check if homes that sold and appealed are more / less valuable than those that sold only\n",
    "\n",
    "print df15_2_5[df15_2_5['matched'] == 1][\"NetConsideration\"].describe()\n",
    "print df15_2_5[df15_2_5['sold'] == 1][\"NetConsideration\"].describe()\n",
    "\n",
    "## homes that appealed are more expensive than those that sold only"
   ]
  },
  {
   "cell_type": "code",
   "execution_count": 7,
   "metadata": {
    "collapsed": false,
    "scrolled": true
   },
   "outputs": [
    {
     "name": "stdout",
     "output_type": "stream",
     "text": [
      "class_type       \n",
      "2           count       9563.000000\n",
      "            mean      407025.967165\n",
      "            std       386132.275547\n",
      "            min        12700.000000\n",
      "            25%       200000.000000\n",
      "            50%       310000.000000\n",
      "            75%       466000.000000\n",
      "            max      5500000.000000\n",
      "Name: 2, dtype: float64\n",
      "class_type       \n",
      "2           count       26763.000000\n",
      "            mean       329449.656317\n",
      "            std        298015.275589\n",
      "            min         10000.000000\n",
      "            25%        165000.000000\n",
      "            50%        250000.000000\n",
      "            75%        390000.000000\n",
      "            max      10375000.000000\n",
      "Name: 2, dtype: float64\n"
     ]
    }
   ],
   "source": [
    "### only class type = 2! so commercial did not appeal and sell or just sell, it only APPEALED\n",
    "print df15_2_5[df15_2_5['matched'] == 1].groupby([\"class_type\"])[\"NetConsideration\"].describe()\n",
    "\n",
    "print df15_2_5[df15_2_5['sold'] == 1].groupby([\"class_type\"])[\"NetConsideration\"].describe()"
   ]
  },
  {
   "cell_type": "code",
   "execution_count": 8,
   "metadata": {
    "collapsed": false
   },
   "outputs": [
    {
     "name": "stdout",
     "output_type": "stream",
     "text": [
      "class_type       \n",
      "2           count    9563.000000\n",
      "            mean        0.810126\n",
      "            std         0.153734\n",
      "            min         0.345900\n",
      "            25%         0.719250\n",
      "            50%         0.806000\n",
      "            75%         0.898900\n",
      "            max         1.403400\n",
      "Name: 2, dtype: float64\n",
      "class_type       \n",
      "2           count    26763.000000\n",
      "            mean         0.874018\n",
      "            std          0.190623\n",
      "            min          0.345000\n",
      "            25%          0.745050\n",
      "            50%          0.867900\n",
      "            75%          0.997850\n",
      "            max          1.404500\n",
      "Name: 2, dtype: float64\n"
     ]
    }
   ],
   "source": [
    "### those who sold and appealed have a lower average assesment ratio\n",
    "\n",
    "print df15_2_5[df15_2_5['matched'] == 1].groupby([\"class_type\"])[\"bor_valratio\"].describe()\n",
    "\n",
    "print df15_2_5[df15_2_5['sold'] == 1].groupby([\"class_type\"])[\"bor_valratio\"].describe()"
   ]
  },
  {
   "cell_type": "code",
   "execution_count": 103,
   "metadata": {
    "collapsed": false
   },
   "outputs": [],
   "source": [
    "from scipy.stats import gaussian_kde\n",
    "\n",
    "# data = df15_2_5[df15_2_5['matched'] == 1][\"bor_valratio\"]\n",
    "# density = gaussian_kde(data)\n",
    "# print(density)\n",
    "# plt.hist(d, bins = 10)\n",
    "# plt.show()\n",
    "\n",
    "# xs = np.linspace(0,1)\n",
    "# density.covariance_factor = lambda : .25\n",
    "# density._compute_covariance()\n",
    "# plt.plot(xs,density(xs))\n",
    "\n",
    "# data2 = df15_2_5[df15_2_5['matched'] == 1][\"bor_valratio\"]\n",
    "# density2 = gaussian_kde(data2)\n",
    "# # plt.hist(d, bins = 10)\n",
    "# # plt.show()\n",
    "\n",
    "# xs = np.linspace(0,1)\n",
    "# density.covariance_factor = lambda : .25\n",
    "# density._compute_covariance()\n",
    "# plt.plot(xs,density2(xs))\n",
    "# plt.show()"
   ]
  },
  {
   "cell_type": "code",
   "execution_count": 9,
   "metadata": {
    "collapsed": false
   },
   "outputs": [
    {
     "name": "stdout",
     "output_type": "stream",
     "text": [
      "count    9563.000000\n",
      "mean        0.810126\n",
      "std         0.153734\n",
      "min         0.345900\n",
      "25%         0.719250\n",
      "50%         0.806000\n",
      "75%         0.898900\n",
      "max         1.403400\n",
      "Name: bor_valratio, dtype: float64\n"
     ]
    },
    {
     "data": {
      "image/png": "[encoded data removed]",
      "text/plain": [
       "<matplotlib.figure.Figure at 0x10bf75410>"
      ]
     },
     "metadata": {},
     "output_type": "display_data"
    }
   ],
   "source": [
    "import seaborn as sns\n",
    "data = df15_2_5[df15_2_5['matched'] == 1][\"bor_valratio\"]\n",
    "print (data.describe())\n",
    "sns.set_context(\"poster\")\n",
    "sns.set_style(\"ticks\")\n",
    "\n",
    "g = sns.distplot(data,kde=False, norm_hist=False)\n",
    "\n",
    "g.axes.set_title('Bor_valratio distribution for MATCHED', fontsize=34,color=\"b\",alpha=0.3)\n",
    "g.set_ylabel(\"Count\",size = 24,alpha=0.5)\n",
    "\n",
    "#plt.savefig(os.getcwd() + \"/results/density-matched_bor_2015.png\")\n"
   ]
  },
  {
   "cell_type": "code",
   "execution_count": 10,
   "metadata": {
    "collapsed": false
   },
   "outputs": [
    {
     "name": "stdout",
     "output_type": "stream",
     "text": [
      "count    26763.000000\n",
      "mean         0.874018\n",
      "std          0.190623\n",
      "min          0.345000\n",
      "25%          0.745050\n",
      "50%          0.867900\n",
      "75%          0.997850\n",
      "max          1.404500\n",
      "Name: bor_valratio, dtype: float64\n"
     ]
    },
    {
     "data": {
      "image/png": "[encoded data removed]",
      "text/plain": [
       "<matplotlib.figure.Figure at 0x106d4c490>"
      ]
     },
     "metadata": {},
     "output_type": "display_data"
    }
   ],
   "source": [
    "data2 = df15_2_5[df15_2_5['sold'] == 1][\"bor_valratio\"]\n",
    "print (data2.describe())\n",
    "sns.set_context(\"poster\")\n",
    "sns.set_style(\"ticks\")\n",
    "\n",
    "g = sns.distplot(data2,kde=False, norm_hist=False, color = \"green\")\n",
    "\n",
    "g.axes.set_title('Bor_valratio distribution for SOLD homes', fontsize=34,color=\"b\",alpha=0.3)\n",
    "g.set_ylabel(\"Count\",size = 24,alpha=0.5)\n",
    "#plt.savefig(os.getcwd() + \"/results/density-sold_bor_2015.png\")\n"
   ]
  },
  {
   "cell_type": "code",
   "execution_count": null,
   "metadata": {
    "collapsed": true
   },
   "outputs": [],
   "source": []
  },
  {
   "cell_type": "code",
   "execution_count": 12,
   "metadata": {
    "collapsed": false
   },
   "outputs": [],
   "source": []
  },
  {
   "cell_type": "code",
   "execution_count": null,
   "metadata": {
    "collapsed": true
   },
   "outputs": [],
   "source": [
    "data = df15_2_5[df15_2_5['matched'] == 1][\"bor_valratio\"]\n",
    "print (data.describe())\n",
    "sns.set_context(\"poster\")\n",
    "sns.set_style(\"ticks\")\n",
    "\n",
    "g = sns.distplot(data,kde=False, norm_hist=False)\n",
    "\n",
    "g.axes.set_title('Bor_valratio distribution for MATCHED', fontsize=34,color=\"b\",alpha=0.3)\n",
    "g.set_ylabel(\"Count\",size = 24,alpha=0.5)\n"
   ]
  },
  {
   "cell_type": "code",
   "execution_count": 14,
   "metadata": {
    "collapsed": false
   },
   "outputs": [
    {
     "data": {
      "text/plain": [
       "Index([u'Unnamed: 0', u'pin', u'taxyear_x', u'appealnum', u'attorneytaxrep',\n",
       "       u'prioir_av', u'proppose_av', u'assr_final', u'board_av', u'housenum',\n",
       "       u'dir', u'street_name', u'street_suffix', u'city_name', u'zip',\n",
       "       u'area_x', u'subarea', u'ass_win', u'bor_win', u'bor_rev', u'assr_rev',\n",
       "       u'total_rev', u'classification', u'win', u'clean_name', u'X', u'pin10',\n",
       "       u'NeighNum', u'Town', u'WARD', u'district_n', u'senatedist', u'TRI',\n",
       "       u'joinyr', u'taxyear_y', u'bor_class', u'NetConsideration',\n",
       "       u'bor_CCAO_ass', u'bor_ass_final', u'bor_val_final', u'TownNeigh',\n",
       "       u'area_y', u'bor_majclass', u'bor_valratio', u'bor_assratio',\n",
       "       u'class_type', u'matched', u'sold'],\n",
       "      dtype='object')"
      ]
     },
     "execution_count": 14,
     "metadata": {},
     "output_type": "execute_result"
    }
   ],
   "source": [
    "df15_2_5.columns"
   ]
  },
  {
   "cell_type": "code",
   "execution_count": 69,
   "metadata": {
    "collapsed": false
   },
   "outputs": [
    {
     "data": {
      "image/png": "[encoded data removed]",
      "text/plain": [
       "<matplotlib.figure.Figure at 0x10b66b110>"
      ]
     },
     "metadata": {},
     "output_type": "display_data"
    }
   ],
   "source": [
    "### total % value revision residential v. commercial\n",
    "ax = df_2_5.groupby(['taxyear','class_type'])['total_rev'].sum().unstack().plot(kind = \"bar\", stacked=False, title=\"Dollar value of total revision\")\n",
    "ax.set_ylabel(\"Total revision dollars\")\n",
    "\n",
    "plt.tight_layout()\n",
    "#plt.savefig(os.getcwd() + \"/results/appeals-total_revision_value2-5.png\")\n"
   ]
  },
  {
   "cell_type": "code",
   "execution_count": 61,
   "metadata": {
    "collapsed": false
   },
   "outputs": [
    {
     "name": "stdout",
     "output_type": "stream",
     "text": [
      "9563\n",
      "8203\n",
      "prob winning in 2015::  0.857\n"
     ]
    }
   ],
   "source": [
    "# appealed == matched == 1\n",
    "## asales ratio(bor_valratio) == \n",
    "# win == 1 versus win == 0 based on netconsideration, etc\n",
    "\n",
    "#win versus lose, win / total\n",
    "total_appeals = df15_2_5[df15_2_5['matched'] == 1].shape[0]\n",
    "win_no = df15_2_5[(df15_2_5['matched'] == 1) & df15_2_5['win'] == 1].shape[0]\n",
    "\n",
    "prob_win_2015 = win_no,total_appeals\n",
    "print total_appeals\n",
    "print win_no\n",
    "print(\"prob winning in 2015::  %s\" %0.857)\n",
    "#df15_2_5.groupby([\"win\"])['total_rev']\n",
    "#.sum().unstack().plot(kind = \"bar\", stacked=False, title=\"Dollar value of total revision\")\n",
    "#ax.set_ylabel(\"Total revision dollars\")\n",
    "\n",
    "#plt.tight_layout()\n",
    "#plt.savefig(os.getcwd() + \"/results/density-matched_bor_2015.png\")\n",
    "\n"
   ]
  },
  {
   "cell_type": "code",
   "execution_count": 63,
   "metadata": {
    "collapsed": false
   },
   "outputs": [
    {
     "name": "stdout",
     "output_type": "stream",
     "text": [
      "win       \n",
      "0    count    1360.000000\n",
      "     mean        0.795461\n",
      "     std         0.173032\n",
      "     min         0.346200\n",
      "     25%         0.674850\n",
      "     50%         0.790700\n",
      "     75%         0.907800\n",
      "     max         1.391000\n",
      "1    count    8203.000000\n",
      "     mean        0.812558\n",
      "     std         0.150169\n",
      "     min         0.345900\n",
      "     25%         0.725150\n",
      "     50%         0.808300\n",
      "     75%         0.897900\n",
      "     max         1.403400\n",
      "dtype: float64\n",
      "win       \n",
      "0    count       1360.000000\n",
      "     mean      388561.580147\n",
      "     std       446736.026764\n",
      "     min        28250.000000\n",
      "     25%       157875.000000\n",
      "     50%       273450.000000\n",
      "     75%       420375.000000\n",
      "     max      4825000.000000\n",
      "1    count       8203.000000\n",
      "     mean      410087.233329\n",
      "     std       375082.857475\n",
      "     min        12700.000000\n",
      "     25%       210000.000000\n",
      "     50%       315000.000000\n",
      "     75%       472500.000000\n",
      "     max      5500000.000000\n",
      "dtype: float64\n",
      "win       \n",
      "0    count      1360.000000\n",
      "     mean      30625.545588\n",
      "     std       34307.935535\n",
      "     min        1472.000000\n",
      "     25%       11628.000000\n",
      "     50%       20895.000000\n",
      "     75%       36161.000000\n",
      "     max      348371.000000\n",
      "1    count      8203.000000\n",
      "     mean      37584.481044\n",
      "     std       34965.629598\n",
      "     min        1576.000000\n",
      "     25%       19141.000000\n",
      "     50%       29087.000000\n",
      "     75%       44065.000000\n",
      "     max      695856.000000\n",
      "dtype: float64\n",
      "win       \n",
      "0    count    1360.000000\n",
      "     mean        0.079521\n",
      "     std         0.017312\n",
      "     min         0.034600\n",
      "     25%         0.067500\n",
      "     50%         0.079000\n",
      "     75%         0.090725\n",
      "     max         0.139100\n",
      "1    count    8203.000000\n",
      "     mean        0.081258\n",
      "     std         0.015034\n",
      "     min         0.034600\n",
      "     25%         0.072500\n",
      "     50%         0.080800\n",
      "     75%         0.089800\n",
      "     max         0.140300\n",
      "dtype: float64\n"
     ]
    },
    {
     "data": {
      "text/plain": [
       "<matplotlib.axes._subplots.AxesSubplot at 0x10f508850>"
      ]
     },
     "execution_count": 63,
     "metadata": {},
     "output_type": "execute_result"
    },
    {
     "data": {
      "image/png": "[encoded data removed]",
      "text/plain": [
       "<matplotlib.figure.Figure at 0x10f962bd0>"
      ]
     },
     "metadata": {},
     "output_type": "display_data"
    }
   ],
   "source": [
    "### netconsideration, etc of those who won versus those who didn't\n",
    "\n",
    "#those who won have a bit higher sales ratio\n",
    "print df15_2_5[df15_2_5['matched'] == 1].groupby([\"win\"])[\"bor_valratio\"].describe()\n",
    "\n",
    "# those who won have a higher netconsideration\n",
    "print df15_2_5[df15_2_5['matched'] == 1].groupby([\"win\"])[\"NetConsideration\"].describe()\n",
    "\n",
    "# those who won have a higher propoose_av\n",
    "print df15_2_5[df15_2_5['matched'] == 1].groupby([\"win\"])[\"proppose_av\"].describe()\n",
    "\n",
    "# those who won have a higher assesment ratio\n",
    "print df15_2_5[df15_2_5['matched'] == 1].groupby([\"win\"])[\"bor_assratio\"].describe()\n",
    "\n",
    "#df15_2_5.boxplot(column=\"bor_assratio\", by=\"win\", sym=\"k.\")"
   ]
  },
  {
   "cell_type": "code",
   "execution_count": 11,
   "metadata": {
    "collapsed": false
   },
   "outputs": [
    {
     "name": "stdout",
     "output_type": "stream",
     "text": [
      "0.812557893454\n",
      "0.810126393391\n"
     ]
    }
   ],
   "source": [
    "## vars but won / total\n",
    "\n",
    "#those who won have a bit higher sales ratio\n",
    "print df15_2_5[df15_2_5['matched'] == 1].groupby([\"win\"])[\"bor_valratio\"].mean()[1]\n",
    "\n",
    "print df15_2_5[df15_2_5['matched'] == 1][\"bor_valratio\"].mean()\n"
   ]
  },
  {
   "cell_type": "code",
   "execution_count": 83,
   "metadata": {
    "collapsed": false
   },
   "outputs": [
    {
     "data": {
      "text/plain": [
       "30     2497\n",
       "10     1621\n",
       "12     1306\n",
       "31     1289\n",
       "22     1289\n",
       "70     1210\n",
       "60     1208\n",
       "11     1179\n",
       "50     1120\n",
       "120     910\n",
       "20      901\n",
       "40      901\n",
       "150     883\n",
       "80      842\n",
       "81      831\n",
       "131     718\n",
       "84      654\n",
       "100     545\n",
       "110     540\n",
       "32      517\n",
       "62      492\n",
       "200     487\n",
       "13      478\n",
       "90      457\n",
       "170     447\n",
       "52      436\n",
       "42      433\n",
       "41      425\n",
       "71      418\n",
       "93      405\n",
       "       ... \n",
       "222       6\n",
       "107       6\n",
       "226       6\n",
       "48        6\n",
       "257       6\n",
       "340       5\n",
       "73        5\n",
       "38        5\n",
       "163       5\n",
       "201       5\n",
       "342       5\n",
       "96        5\n",
       "86        4\n",
       "432       4\n",
       "117       4\n",
       "262       3\n",
       "223       3\n",
       "227       3\n",
       "251       3\n",
       "285       3\n",
       "18        2\n",
       "275       2\n",
       "315       2\n",
       "134       2\n",
       "164       1\n",
       "344       1\n",
       "341       1\n",
       "37        1\n",
       "293       1\n",
       "580       1\n",
       "dtype: int64"
      ]
     },
     "execution_count": 83,
     "metadata": {},
     "output_type": "execute_result"
    }
   ],
   "source": [
    "#df15_2_5[df15_2_5['matched'] == 1].groupby([\"win\", \"NeighNum\"]).describe()\n",
    "df15_2_5[\"NeighNum\"].value_counts()"
   ]
  },
  {
   "cell_type": "code",
   "execution_count": 88,
   "metadata": {
    "collapsed": false
   },
   "outputs": [
    {
     "name": "stdout",
     "output_type": "stream",
     "text": [
      "merged df shape (2908645, 45)\n",
      "\n",
      "sold but didn't appeal (299685, 45)\n",
      "appealed only (1866817, 45)\n",
      "matched, sold and appealed (742143, 45)\n",
      "(396946, 46)\n"
     ]
    },
    {
     "name": "stderr",
     "output_type": "stream",
     "text": [
      "/Library/Python/2.7/site-packages/ipykernel/__main__.py:17: SettingWithCopyWarning: \n",
      "A value is trying to be set on a copy of a slice from a DataFrame.\n",
      "Try using .loc[row_indexer,col_indexer] = value instead\n",
      "\n",
      "See the the caveats in the documentation: http://pandas.pydata.org/pandas-docs/stable/indexing.html#indexing-view-versus-copy\n",
      "/Library/Python/2.7/site-packages/ipykernel/__main__.py:40: SettingWithCopyWarning: \n",
      "A value is trying to be set on a copy of a slice from a DataFrame.\n",
      "Try using .loc[row_indexer,col_indexer] = value instead\n",
      "\n",
      "See the the caveats in the documentation: http://pandas.pydata.org/pandas-docs/stable/indexing.html#indexing-view-versus-copy\n"
     ]
    },
    {
     "name": "stdout",
     "output_type": "stream",
     "text": [
      "(739442, 47)\n"
     ]
    },
    {
     "name": "stderr",
     "output_type": "stream",
     "text": [
      "/Library/Python/2.7/site-packages/ipykernel/__main__.py:44: SettingWithCopyWarning: \n",
      "A value is trying to be set on a copy of a slice from a DataFrame.\n",
      "Try using .loc[row_indexer,col_indexer] = value instead\n",
      "\n",
      "See the the caveats in the documentation: http://pandas.pydata.org/pandas-docs/stable/indexing.html#indexing-view-versus-copy\n"
     ]
    },
    {
     "name": "stdout",
     "output_type": "stream",
     "text": [
      "(299685, 48)\n"
     ]
    }
   ],
   "source": [
    "### ALL YEARS\n",
    "\n",
    "#remove dup, merge, check types\n",
    "\n",
    "df = remove_dup_merge(sales, appeals, [\"pin\"], [\"pin\"])\n",
    "print \"merged df shape\", df.shape\n",
    "print\n",
    "\n",
    "##  homes that SOLD but didn't appeal - no appealsnum\n",
    "a= df[pd.isnull(df['appealnum'])].shape\n",
    "print \"sold but didn't appeal\", a\n",
    "## pin10 is only in sales data,  that APPEALED ONLY - no pin10\n",
    "b = df[pd.isnull(df['pin10'])].shape\n",
    "print \"appealed only\", b\n",
    "##  properties that sold AND appealed\n",
    "c = df[(pd.notnull(df['appealnum'])) & (pd.notnull(df['pin10']))].shape\n",
    "print \"matched, sold and appealed\", c\n",
    "\n",
    "df['class_type'] = \"NA\"\n",
    "print df15.shape\n",
    "\n",
    "#SOLD\n",
    "classif_null = df[pd.isnull(df[\"classification\"])]\n",
    "add_class_type_col(classif_null, \"bor_class\")\n",
    "\n",
    "#APPEALED\n",
    "bor_null = df[pd.isnull(df[\"bor_class\"])]\n",
    "add_class_type_col(bor_null, \"classification\")\n",
    "\n",
    "matched = df[(pd.notnull(df[\"bor_class\"])) & (pd.notnull(df[\"classification\"]))]\n",
    "add_class_type_col(matched, \"classification\")\n",
    "\n",
    "frames = [classif_null, bor_null, matched]\n",
    "\n",
    "result = pd.concat(frames)\n",
    "\n",
    "df_2_5 = keep_2_5_only(result)\n",
    "assert len(df_2_5) > 10 #arbitrary\n",
    "\n",
    "df_2_5['matched'] = np.where((pd.notnull(df_2_5[\"bor_class\"])) & (pd.notnull(df_2_5[\"appealnum\"])), 1, 0)\n",
    "print df_2_5[df_2_5['matched']==1].shape\n",
    "\n",
    "## sold only \n",
    "df_2_5['sold'] = np.where(pd.isnull(df_2_5[\"appealnum\"]), 1, 0)\n",
    "print df_2_5[df_2_5['sold']==1].shape\n"
   ]
  },
  {
   "cell_type": "code",
   "execution_count": 108,
   "metadata": {
    "collapsed": false
   },
   "outputs": [
    {
     "data": {
      "text/plain": [
       "win       \n",
       "0    count     7623.000000\n",
       "     mean         0.082105\n",
       "     std          0.016742\n",
       "     min          0.034500\n",
       "     25%          0.071800\n",
       "     50%          0.081100\n",
       "     75%          0.092100\n",
       "     max          0.140300\n",
       "1    count    24103.000000\n",
       "     mean         0.080540\n",
       "     std          0.016559\n",
       "     min          0.025800\n",
       "     25%          0.070200\n",
       "     50%          0.079700\n",
       "     75%          0.090000\n",
       "     max          0.140300\n",
       "dtype: float64"
      ]
     },
     "execution_count": 108,
     "metadata": {},
     "output_type": "execute_result"
    }
   ],
   "source": [
    "# assesment ratio\n",
    "#ax = \n",
    "df_2_5[(df_2_5['matched'] == 1) & (df_2_5['taxyear_y'] == 2015)].groupby([\"win\"])[\"bor_assratio\"].describe()\n",
    "#.unstack().plot(kind = \"bar\", stacked=False, title=\"Dollar value of total revision\")\n",
    "\n",
    "#ax.set_ylabel(\"mean assesment ratio\")\n",
    "#ax.set_ylim([0.06, 0.1])\n",
    "#plt.tight_layout()"
   ]
  },
  {
   "cell_type": "code",
   "execution_count": 14,
   "metadata": {
    "collapsed": false
   },
   "outputs": [
    {
     "name": "stdout",
     "output_type": "stream",
     "text": [
      "(225542, 45)\n",
      "\n",
      "(32561, 45)\n",
      "(189190, 45)\n",
      "(3791, 45)\n",
      "(225542, 46)\n"
     ]
    },
    {
     "name": "stderr",
     "output_type": "stream",
     "text": [
      "/Library/Python/2.7/site-packages/ipykernel/__main__.py:17: SettingWithCopyWarning: \n",
      "A value is trying to be set on a copy of a slice from a DataFrame.\n",
      "Try using .loc[row_indexer,col_indexer] = value instead\n",
      "\n",
      "See the the caveats in the documentation: http://pandas.pydata.org/pandas-docs/stable/indexing.html#indexing-view-versus-copy\n"
     ]
    },
    {
     "name": "stdout",
     "output_type": "stream",
     "text": [
      "(3791, 47)\n",
      "(32561, 48)\n"
     ]
    },
    {
     "name": "stderr",
     "output_type": "stream",
     "text": [
      "/Library/Python/2.7/site-packages/ipykernel/__main__.py:47: SettingWithCopyWarning: \n",
      "A value is trying to be set on a copy of a slice from a DataFrame.\n",
      "Try using .loc[row_indexer,col_indexer] = value instead\n",
      "\n",
      "See the the caveats in the documentation: http://pandas.pydata.org/pandas-docs/stable/indexing.html#indexing-view-versus-copy\n",
      "/Library/Python/2.7/site-packages/ipykernel/__main__.py:51: SettingWithCopyWarning: \n",
      "A value is trying to be set on a copy of a slice from a DataFrame.\n",
      "Try using .loc[row_indexer,col_indexer] = value instead\n",
      "\n",
      "See the the caveats in the documentation: http://pandas.pydata.org/pandas-docs/stable/indexing.html#indexing-view-versus-copy\n"
     ]
    }
   ],
   "source": [
    "## 2014\n",
    "\n",
    "#remove dup, merge, check types\n",
    "\n",
    "df14 = remove_dup_merge(sales14, appeals14, [\"pin\"], [\"pin\"])\n",
    "print df14.shape\n",
    "print\n",
    "\n",
    "##  homes that SOLD but didn't appeal - no appealsnum\n",
    "a= df14[pd.isnull(df14['appealnum'])].shape\n",
    "print a\n",
    "## pin10 is only in sales data,  that APPEALED ONLY - no pin10\n",
    "b = df14[pd.isnull(df14['pin10'])].shape\n",
    "print b\n",
    "##  properties that sold AND appealed\n",
    "c = df14[(pd.notnull(df14['appealnum'])) & (pd.notnull(df14['pin10']))].shape\n",
    "print c\n",
    "\n",
    "\n",
    "### adding classification, keeping class 2 and 5\n",
    "\n",
    "df14['class_type'] = \"NA\"\n",
    "print df14.shape\n",
    "\n",
    "#SOLD\n",
    "classif_null = df14[pd.isnull(df14[\"classification\"])]\n",
    "add_class_type_col(classif_null, \"bor_class\")\n",
    "\n",
    "#APPEALED\n",
    "bor_null = df14[pd.isnull(df14[\"bor_class\"])]\n",
    "add_class_type_col(bor_null, \"classification\")\n",
    "\n",
    "matched = df14[(pd.notnull(df14[\"bor_class\"])) & (pd.notnull(df14[\"classification\"]))]\n",
    "add_class_type_col(matched, \"classification\")\n",
    "\n",
    "frames = [classif_null, bor_null, matched]\n",
    "\n",
    "result = pd.concat(frames)\n",
    "\n",
    "df14_2_5 = keep_2_5_only(result)\n",
    "\n",
    "# 2015 ONLY\n",
    "# Create dummy for matched = 1\n",
    "# dummy for sold only = 1\n",
    "\n",
    "## sold and appealed\n",
    "df14_2_5['matched'] = np.where((pd.notnull(df14_2_5[\"bor_class\"])) & (pd.notnull(df14_2_5[\"appealnum\"])), 1, 0)\n",
    "print df14_2_5[df14_2_5['matched']==1].shape\n",
    "\n",
    "## sold only \n",
    "df14_2_5['sold'] = np.where(pd.isnull(df14_2_5[\"appealnum\"]), 1, 0)\n",
    "print df14_2_5[df14_2_5['sold']==1].shape\n"
   ]
  },
  {
   "cell_type": "code",
   "execution_count": 15,
   "metadata": {
    "collapsed": false
   },
   "outputs": [
    {
     "name": "stdout",
     "output_type": "stream",
     "text": [
      "class_type       \n",
      "2           count        3790.000000\n",
      "            mean       409608.352507\n",
      "            std        546619.208550\n",
      "            min          6500.000000\n",
      "            25%        154225.000000\n",
      "            50%        268750.000000\n",
      "            75%        455000.000000\n",
      "            max      16000000.000000\n",
      "5           count           1.000000\n",
      "            mean       482000.000000\n",
      "            std                  NaN\n",
      "            min        482000.000000\n",
      "            25%        482000.000000\n",
      "            50%        482000.000000\n",
      "            75%        482000.000000\n",
      "            max        482000.000000\n",
      "dtype: float64\n",
      "class_type       \n",
      "2           count      32561.000000\n",
      "            mean      339603.251129\n",
      "            std       321742.163870\n",
      "            min         7500.000000\n",
      "            25%       162000.000000\n",
      "            50%       257500.000000\n",
      "            75%       403000.000000\n",
      "            max      7400000.000000\n",
      "Name: 2, dtype: float64\n"
     ]
    }
   ],
   "source": [
    "## sold + appealed also have higher netconsideration\n",
    "print df14_2_5[df14_2_5['matched'] == 1].groupby([\"class_type\"])[\"NetConsideration\"].describe()\n",
    "\n",
    "print df14_2_5[df14_2_5['sold'] == 1].groupby([\"class_type\"])[\"NetConsideration\"].describe()"
   ]
  },
  {
   "cell_type": "code",
   "execution_count": 18,
   "metadata": {
    "collapsed": false
   },
   "outputs": [
    {
     "name": "stdout",
     "output_type": "stream",
     "text": [
      "              NeighNum  NetConsideration          TRI         Town  \\\n",
      "win                                                                  \n",
      "0   count  1609.000000       1609.000000  1609.000000  1609.000000   \n",
      "    mean     61.285270     448909.970168     1.337477    61.376010   \n",
      "    std      58.680951     638437.917924     0.612753    22.256442   \n",
      "    min      10.000000       6500.000000     1.000000    10.000000   \n",
      "    25%      22.000000     210000.000000     1.000000    38.000000   \n",
      "    50%      31.000000     313750.000000     1.000000    74.000000   \n",
      "    75%      84.000000     470000.000000     2.000000    74.000000   \n",
      "    max     461.000000   16000000.000000     3.000000    77.000000   \n",
      "1   count  2182.000000       2182.000000  2182.000000  2182.000000   \n",
      "    mean     73.057745     380660.638863     1.957379    46.224565   \n",
      "    std      77.584625     465396.314188     0.889347    24.183237   \n",
      "    min      10.000000      10000.000000     1.000000    10.000000   \n",
      "    25%      22.000000     127425.000000     1.000000    27.000000   \n",
      "    50%      50.000000     224375.000000     2.000000    35.000000   \n",
      "    75%      90.000000     440000.000000     3.000000    73.000000   \n",
      "    max     600.000000    5335000.000000     3.000000    77.000000   \n",
      "\n",
      "              TownNeigh     Unnamed: 0              X       appealnum  \\\n",
      "win                                                                     \n",
      "0   count   1609.000000    1609.000000    1609.000000     1609.000000   \n",
      "    mean   58437.481666   82317.452455  391594.860162   441331.734618   \n",
      "    std    27700.298735   40890.434593  175902.942240  1758470.663840   \n",
      "    min     1024.000000     611.000000    2179.000000      935.000000   \n",
      "    25%    35170.000000   57057.000000  295853.000000    36016.000000   \n",
      "    50%    74012.000000   94766.000000  461977.000000    98323.000000   \n",
      "    75%    74030.000000  111453.000000  518921.000000   119642.000000   \n",
      "    max    77170.000000  190972.000000  812502.000000  9127867.000000   \n",
      "1   count   2182.000000    2182.000000    2182.000000     2182.000000   \n",
      "    mean   42870.032997   95401.226856  435141.733272   325945.939505   \n",
      "    std    28049.652539   55248.959605  227898.386366  1489548.086355   \n",
      "    min     1012.000000     251.000000     674.000000      318.000000   \n",
      "    25%    21084.000000   48496.250000  240177.750000    34545.000000   \n",
      "    50%    32227.000000   89136.000000  436483.500000    75127.000000   \n",
      "    75%    73090.000000  143420.250000  620845.250000   116875.500000   \n",
      "    max    77170.000000  192958.000000  820808.000000  9127714.000000   \n",
      "\n",
      "                area_x       area_y      ...              pin10  \\\n",
      "win                                      ...                      \n",
      "0   count  1609.000000  1609.000000      ...       1.609000e+03   \n",
      "    mean     14.506526    14.506526      ...       1.467343e+09   \n",
      "    std       4.915592     4.915592      ...       4.890204e+08   \n",
      "    min       1.000000     1.000000      ...       1.241001e+08   \n",
      "    25%      14.000000    14.000000      ...       1.405211e+09   \n",
      "    50%      17.000000    17.000000      ...       1.703200e+09   \n",
      "    75%      17.000000    17.000000      ...       1.710209e+09   \n",
      "    max      32.000000    32.000000      ...       3.218201e+09   \n",
      "1   count  2182.000000  2182.000000      ...       2.182000e+03   \n",
      "    mean     16.316682    16.316682      ...       1.650894e+09   \n",
      "    std       7.118702     7.118702      ...       7.115624e+08   \n",
      "    min       1.000000     1.000000      ...       1.013140e+08   \n",
      "    25%      13.000000    13.000000      ...       1.308629e+09   \n",
      "    50%      16.000000    16.000000      ...       1.618117e+09   \n",
      "    75%      19.750000    19.750000      ...       1.985634e+09   \n",
      "    max      33.000000    33.000000      ...       3.331103e+09   \n",
      "\n",
      "               prioir_av    proppose_av   senatedist  sold      subarea  \\\n",
      "win                                                                       \n",
      "0   count    1609.000000    1609.000000  1609.000000  1609  1609.000000   \n",
      "    mean    30927.093226   32422.488502     9.621504     0  1467.091983   \n",
      "    std     31388.965603   36476.302265     8.074070     0   489.024187   \n",
      "    min         0.000000     577.000000     1.000000     0   124.000000   \n",
      "    25%     15229.000000   15376.000000     3.000000     0  1405.000000   \n",
      "    50%     22932.000000   23151.000000     6.000000     0  1703.000000   \n",
      "    75%     35022.000000   35762.000000    13.000000     0  1710.000000   \n",
      "    max    367316.000000  553675.000000    41.000000     0  3218.000000   \n",
      "1   count    2182.000000    2182.000000  2182.000000  2182  2182.000000   \n",
      "    mean    26475.425298   35015.201192    14.612282     0  1650.641155   \n",
      "    std     31795.901618   43355.760400    10.582962     0   711.562464   \n",
      "    min       296.000000    1823.000000     1.000000     0   101.000000   \n",
      "    25%     10816.250000   12892.250000     6.000000     0  1308.250000   \n",
      "    50%     17320.000000   21347.500000    13.000000     0  1618.000000   \n",
      "    75%     30664.500000   39890.250000    19.000000     0  1985.500000   \n",
      "    max    650001.000000  693116.000000    41.000000     0  3331.000000   \n",
      "\n",
      "           taxyear_x  taxyear_y      total_rev           zip  \n",
      "win                                                           \n",
      "0   count       1609       1609    1609.000000  1.609000e+03  \n",
      "    mean        2014       2014      -2.085768  5.912273e+08  \n",
      "    std            0          0      83.640080  9.075713e+07  \n",
      "    min         2014       2014   -3355.000000  0.000000e+00  \n",
      "    25%         2014       2014       0.000000  6.046522e+08  \n",
      "    50%         2014       2014       0.000000  6.061128e+08  \n",
      "    75%         2014       2014       0.000000  6.064025e+08  \n",
      "    max         2014       2014       0.000000  6.080530e+08  \n",
      "1   count       2182       2182    2182.000000  2.182000e+03  \n",
      "    mean        2014       2014    7292.401467  6.003457e+08  \n",
      "    std            0          0   18632.875623  5.000257e+07  \n",
      "    min         2014       2014     148.000000  0.000000e+00  \n",
      "    25%         2014       2014    1193.000000  6.030232e+08  \n",
      "    50%         2014       2014    2246.500000  6.048018e+08  \n",
      "    75%         2014       2014    5243.250000  6.061471e+08  \n",
      "    max         2014       2014  363117.000000  6.082756e+08  \n",
      "\n",
      "[16 rows x 39 columns]\n",
      "win       \n",
      "0    count    1609.000000\n",
      "     mean        0.762828\n",
      "     std         0.159999\n",
      "     min         0.292600\n",
      "     25%         0.664000\n",
      "     50%         0.746900\n",
      "     75%         0.838100\n",
      "     max         1.419400\n",
      "1    count    2182.000000\n",
      "     mean        0.814091\n",
      "     std         0.219660\n",
      "     min         0.280000\n",
      "     25%         0.684700\n",
      "     50%         0.821450\n",
      "     75%         0.955900\n",
      "     max         1.466700\n",
      "dtype: float64\n",
      "win       \n",
      "0    count        1609.000000\n",
      "     mean       448909.970168\n",
      "     std        638437.917924\n",
      "     min          6500.000000\n",
      "     25%        210000.000000\n",
      "     50%        313750.000000\n",
      "     75%        470000.000000\n",
      "     max      16000000.000000\n",
      "1    count        2182.000000\n",
      "     mean       380660.638863\n",
      "     std        465396.314188\n",
      "     min         10000.000000\n",
      "     25%        127425.000000\n",
      "     50%        224375.000000\n",
      "     75%        440000.000000\n",
      "     max       5335000.000000\n",
      "dtype: float64\n",
      "win       \n",
      "0    count      1609.000000\n",
      "     mean      32422.488502\n",
      "     std       36476.302265\n",
      "     min         577.000000\n",
      "     25%       15376.000000\n",
      "     50%       23151.000000\n",
      "     75%       35762.000000\n",
      "     max      553675.000000\n",
      "1    count      2182.000000\n",
      "     mean      35015.201192\n",
      "     std       43355.760400\n",
      "     min        1823.000000\n",
      "     25%       12892.250000\n",
      "     50%       21347.500000\n",
      "     75%       39890.250000\n",
      "     max      693116.000000\n",
      "dtype: float64\n",
      "win       \n",
      "0    count    1609.000000\n",
      "     mean        0.076272\n",
      "     std         0.016002\n",
      "     min         0.029300\n",
      "     25%         0.066400\n",
      "     50%         0.074700\n",
      "     75%         0.083800\n",
      "     max         0.141900\n",
      "1    count    2182.000000\n",
      "     mean        0.081407\n",
      "     std         0.021980\n",
      "     min         0.028000\n",
      "     25%         0.068500\n",
      "     50%         0.082100\n",
      "     75%         0.095600\n",
      "     max         0.146700\n",
      "dtype: float64\n"
     ]
    }
   ],
   "source": [
    "#those who won have a bit higher sales ratio\n",
    "print df14_2_5[df14_2_5['matched'] == 1].groupby([\"win\"]).describe()\n",
    "\n",
    "print df14_2_5[df14_2_5['matched'] == 1].groupby([\"win\"])[\"bor_valratio\"].describe()\n",
    "\n",
    "# those who won have a higher netconsideration\n",
    "print df14_2_5[df14_2_5['matched'] == 1].groupby([\"win\"])[\"NetConsideration\"].describe()\n",
    "\n",
    "# those who won have a higher propoose_av\n",
    "print df14_2_5[df14_2_5['matched'] == 1].groupby([\"win\"])[\"proppose_av\"].describe()\n",
    "\n",
    "# those who won have a higher assesment ratio\n",
    "print df14_2_5[df14_2_5['matched'] == 1].groupby([\"win\"])[\"bor_assratio\"].describe()\n"
   ]
  },
  {
   "cell_type": "code",
   "execution_count": null,
   "metadata": {
    "collapsed": true
   },
   "outputs": [],
   "source": []
  }
 ],
 "metadata": {
  "kernelspec": {
   "display_name": "Python 2",
   "language": "python",
   "name": "python2"
  },
  "language_info": {
   "codemirror_mode": {
    "name": "ipython",
    "version": 2
   },
   "file_extension": ".py",
   "mimetype": "text/x-python",
   "name": "python",
   "nbconvert_exporter": "python",
   "pygments_lexer": "ipython2",
   "version": "2.7.10"
  }
 },
 "nbformat": 4,
 "nbformat_minor": 0
}
