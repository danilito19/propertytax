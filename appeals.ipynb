{
 "cells": [
  {
   "cell_type": "code",
   "execution_count": 108,
   "metadata": {
    "collapsed": false
   },
   "outputs": [
    {
     "ename": "ImportError",
     "evalue": "No module named statsmodels",
     "output_type": "error",
     "traceback": [
      "\u001b[0;31m---------------------------------------------------------------------------\u001b[0m",
      "\u001b[0;31mImportError\u001b[0m                               Traceback (most recent call last)",
      "\u001b[0;32m<ipython-input-108-96eecc998a74>\u001b[0m in \u001b[0;36m<module>\u001b[0;34m()\u001b[0m\n\u001b[1;32m      7\u001b[0m \u001b[0;32mimport\u001b[0m \u001b[0mos\u001b[0m\u001b[0;34m\u001b[0m\u001b[0m\n\u001b[1;32m      8\u001b[0m \u001b[0;32mimport\u001b[0m \u001b[0mglob\u001b[0m\u001b[0;34m\u001b[0m\u001b[0m\n\u001b[0;32m----> 9\u001b[0;31m \u001b[0;32mimport\u001b[0m \u001b[0mstatsmodels\u001b[0m \u001b[0;32mas\u001b[0m \u001b[0msm\u001b[0m\u001b[0;34m\u001b[0m\u001b[0m\n\u001b[0m\u001b[1;32m     10\u001b[0m \u001b[0;34m\u001b[0m\u001b[0m\n\u001b[1;32m     11\u001b[0m \u001b[0mpath\u001b[0m \u001b[0;34m=\u001b[0m \u001b[0mos\u001b[0m\u001b[0;34m.\u001b[0m\u001b[0mgetcwd\u001b[0m\u001b[0;34m(\u001b[0m\u001b[0;34m)\u001b[0m\u001b[0;34m\u001b[0m\u001b[0m\n",
      "\u001b[0;31mImportError\u001b[0m: No module named statsmodels"
     ]
    }
   ],
   "source": [
    "import pandas as pd\n",
    "import csv\n",
    "import numpy as np \n",
    "import matplotlib.pyplot as plt\n",
    "%matplotlib inline  \n",
    "import pylab\n",
    "import os\n",
    "import glob\n",
    "import statsmodels as sm\n",
    "\n",
    "path = os.getcwd() "
   ]
  },
  {
   "cell_type": "code",
   "execution_count": 26,
   "metadata": {
    "collapsed": false
   },
   "outputs": [
    {
     "name": "stdout",
     "output_type": "stream",
     "text": [
      "DONE CONCATINATING DATA\n"
     ]
    }
   ],
   "source": [
    "files = glob.glob(path + \"/data/Appeals/*.csv\")\n",
    "frame = pd.DataFrame()\n",
    "\n",
    "list_ = []\n",
    "for file_ in files:\n",
    "    df = pd.read_csv(file_,index_col=None, header=0)\n",
    "    list_.append(df)\n",
    "df = pd.concat(list_)\n",
    "\n",
    "print \"DONE CONCATINATING DATA\""
   ]
  },
  {
   "cell_type": "markdown",
   "metadata": {},
   "source": [
    "##### number of appeals 2003-2015 and number of features"
   ]
  },
  {
   "cell_type": "code",
   "execution_count": 27,
   "metadata": {
    "collapsed": false
   },
   "outputs": [
    {
     "data": {
      "text/plain": [
       "(2608960, 24)"
      ]
     },
     "execution_count": 27,
     "metadata": {},
     "output_type": "execute_result"
    }
   ],
   "source": [
    "df.shape"
   ]
  },
  {
   "cell_type": "markdown",
   "metadata": {},
   "source": [
    "###### get 2015 year only, too"
   ]
  },
  {
   "cell_type": "code",
   "execution_count": 36,
   "metadata": {
    "collapsed": false
   },
   "outputs": [
    {
     "data": {
      "text/plain": [
       "(370183, 23)"
      ]
     },
     "execution_count": 36,
     "metadata": {},
     "output_type": "execute_result"
    }
   ],
   "source": [
    "df15 = pd.read_csv(path + \"appeals15.csv\",index_col=None, header=0)"
   ]
  },
  {
   "cell_type": "code",
   "execution_count": 41,
   "metadata": {
    "collapsed": false
   },
   "outputs": [
    {
     "name": "stdout",
     "output_type": "stream",
     "text": [
      "1\n"
     ]
    }
   ],
   "source": [
    "def print_statistics(data):\n",
    "    '''\n",
    "    Given a pandas dataframe, print dataframe statistics, correlation, and missing data.\n",
    "    '''\n",
    "    pd.set_option('display.width', 20)\n",
    "    pd.set_option('display.float_format', lambda x: '%.3f' % x)\n",
    "    print '**** column names:  ', \"\\n\", data.columns.values\n",
    "    #print '**** top of the data: ', \"\\n\",  data.head()\n",
    "    #print '**** dataframe shape: ', \"\\n\", data.shape\n",
    "    print '**** statistics: ', \"\\n\", data.describe(include='all')\n",
    "    #print '**** MODE: ', \"\\n\", data.mode()\n",
    "    print '**** sum of null values by column: ', \"\\n\", data.isnull().sum()\n",
    "    print '**** correlation matrix: ', \"\\n\", data.corr()\n",
    "\n",
    "print_statistics(df)"
   ]
  },
  {
   "cell_type": "markdown",
   "metadata": {
    "collapsed": true
   },
   "source": [
    "#### Appeals per year"
   ]
  },
  {
   "cell_type": "code",
   "execution_count": 100,
   "metadata": {
    "collapsed": false
   },
   "outputs": [
    {
     "data": {
      "image/png": "[encoded data removed]",
      "text/plain": [
       "<matplotlib.figure.Figure at 0x17a1a8f10>"
      ]
     },
     "metadata": {},
     "output_type": "display_data"
    }
   ],
   "source": [
    "pd.value_counts(df[\"taxyear\"], ascending=True).plot(kind = \"bar\")\n",
    "plt.tight_layout()\n",
    "plt.savefig(path + \"/results/appeals-per-year.png\")"
   ]
  },
  {
   "cell_type": "code",
   "execution_count": 47,
   "metadata": {
    "collapsed": false
   },
   "outputs": [
    {
     "name": "stdout",
     "output_type": "stream",
     "text": [
      "2015    370183\n",
      "2012    329005\n",
      "2009    286505\n",
      "2013    266278\n",
      "2010    203698\n",
      "2014    192981\n",
      "2006    188727\n",
      "2003    166562\n",
      "2007    152477\n",
      "2011    151169\n",
      "2004    125317\n",
      "2008    109387\n",
      "2005     66671\n",
      "dtype: int64\n"
     ]
    }
   ],
   "source": [
    "print pd.value_counts(df[\"taxyear\"])"
   ]
  },
  {
   "cell_type": "markdown",
   "metadata": {},
   "source": [
    "### Top 20 attorneys / firms by all appeals"
   ]
  },
  {
   "cell_type": "code",
   "execution_count": 102,
   "metadata": {
    "collapsed": false
   },
   "outputs": [
    {
     "name": "stdout",
     "output_type": "stream",
     "text": [
      "ELLIOTT & ASSOCIATES                   171631\n",
      "MICHAEL J ELLIOTT                      151740\n",
      "FIELD & GOLDBERG,LLC                   108371\n",
      "AMARI & LOCALLO                         98376\n",
      "JAMES  A FIELD                          81554\n",
      "WORSEK & VIHON P.C.                     79328\n",
      "WORSEK & VIHON                          62165\n",
      "CRANE & NORCROSS                        59621\n",
      "O\"KEEFE,LYONS,& HYNES                   57546\n",
      "DAVID C DUNKIN                          50871\n",
      "ARNSTEIN AND LEHR LLP                   50709\n",
      "ROBERT M SARNOFF                        45629\n",
      "KLAFTER & BURKE                         43296\n",
      "LAW OFFICES OF TERRENCE KENNEDY,JR.     42573\n",
      "SARNOFF & BACCASH                       36940\n",
      "TERRENCE KENNEDY JR                     34272\n",
      "PATRICK  J CULLERTON                    29536\n",
      "WORSEK & VIHON LLP                      27022\n",
      "GEORGE   N REVELIOTIS                   26869\n",
      "MICHAEL A. GRIFFIN                      25983\n",
      "dtype: int64\n"
     ]
    }
   ],
   "source": [
    "print pd.value_counts(df[\"attorneytaxrep\"])[:20]"
   ]
  },
  {
   "cell_type": "markdown",
   "metadata": {},
   "source": [
    "### Top attorneys with most won cases\n",
    "### Top attorneys with most failed cases"
   ]
  },
  {
   "cell_type": "code",
   "execution_count": 71,
   "metadata": {
    "collapsed": false
   },
   "outputs": [
    {
     "data": {
      "text/html": [
       "<div>\n",
       "<table border=\"1\" class=\"dataframe\">\n",
       "  <thead>\n",
       "    <tr style=\"text-align: right;\">\n",
       "      <th></th>\n",
       "      <th>appealnum</th>\n",
       "      <th>area</th>\n",
       "      <th>ass_win</th>\n",
       "      <th>assr_final</th>\n",
       "      <th>assr_rev</th>\n",
       "      <th>attorneytaxrep</th>\n",
       "      <th>board_av</th>\n",
       "      <th>bor_rev</th>\n",
       "      <th>bor_win</th>\n",
       "      <th>city_name</th>\n",
       "      <th>...</th>\n",
       "      <th>pin</th>\n",
       "      <th>prioir_av</th>\n",
       "      <th>proppose_av</th>\n",
       "      <th>street_name</th>\n",
       "      <th>street_suffix</th>\n",
       "      <th>subarea</th>\n",
       "      <th>taxyear</th>\n",
       "      <th>total_rev</th>\n",
       "      <th>win</th>\n",
       "      <th>zip</th>\n",
       "    </tr>\n",
       "  </thead>\n",
       "  <tbody>\n",
       "    <tr>\n",
       "      <th>0</th>\n",
       "      <td>164</td>\n",
       "      <td>1</td>\n",
       "      <td>0</td>\n",
       "      <td>59618</td>\n",
       "      <td>0</td>\n",
       "      <td>KEARNEY &amp; PHELAN, LTD.</td>\n",
       "      <td>48260</td>\n",
       "      <td>11358</td>\n",
       "      <td>1</td>\n",
       "      <td>BARRINGTON</td>\n",
       "      <td>...</td>\n",
       "      <td>1011010200000</td>\n",
       "      <td>59618</td>\n",
       "      <td>59618</td>\n",
       "      <td>HOUGH</td>\n",
       "      <td>ST</td>\n",
       "      <td>101</td>\n",
       "      <td>2003</td>\n",
       "      <td>11358</td>\n",
       "      <td>1</td>\n",
       "      <td>600104319</td>\n",
       "    </tr>\n",
       "    <tr>\n",
       "      <th>1</th>\n",
       "      <td>142</td>\n",
       "      <td>1</td>\n",
       "      <td>0</td>\n",
       "      <td>114882</td>\n",
       "      <td>0</td>\n",
       "      <td>RIEFF &amp; SCHRAMM</td>\n",
       "      <td>114882</td>\n",
       "      <td>0</td>\n",
       "      <td>0</td>\n",
       "      <td>BARRINGTON</td>\n",
       "      <td>...</td>\n",
       "      <td>1011020010000</td>\n",
       "      <td>114882</td>\n",
       "      <td>114882</td>\n",
       "      <td>COOK</td>\n",
       "      <td>ST</td>\n",
       "      <td>101</td>\n",
       "      <td>2003</td>\n",
       "      <td>0</td>\n",
       "      <td>0</td>\n",
       "      <td>600104311</td>\n",
       "    </tr>\n",
       "    <tr>\n",
       "      <th>2</th>\n",
       "      <td>142</td>\n",
       "      <td>1</td>\n",
       "      <td>0</td>\n",
       "      <td>124517</td>\n",
       "      <td>0</td>\n",
       "      <td>RIEFF &amp; SCHRAMM</td>\n",
       "      <td>124517</td>\n",
       "      <td>0</td>\n",
       "      <td>0</td>\n",
       "      <td>BARRINGTON</td>\n",
       "      <td>...</td>\n",
       "      <td>1011020050000</td>\n",
       "      <td>124517</td>\n",
       "      <td>124517</td>\n",
       "      <td>PARK</td>\n",
       "      <td>AVE</td>\n",
       "      <td>101</td>\n",
       "      <td>2003</td>\n",
       "      <td>0</td>\n",
       "      <td>0</td>\n",
       "      <td>600104332</td>\n",
       "    </tr>\n",
       "    <tr>\n",
       "      <th>3</th>\n",
       "      <td>145</td>\n",
       "      <td>1</td>\n",
       "      <td>1</td>\n",
       "      <td>563336</td>\n",
       "      <td>308144</td>\n",
       "      <td>EUGENE L. GRIFFIN &amp; ASSOCIATES</td>\n",
       "      <td>492097</td>\n",
       "      <td>71239</td>\n",
       "      <td>1</td>\n",
       "      <td>BARRINGTON</td>\n",
       "      <td>...</td>\n",
       "      <td>1011030020000</td>\n",
       "      <td>492099</td>\n",
       "      <td>871480</td>\n",
       "      <td>MAIN</td>\n",
       "      <td>ST</td>\n",
       "      <td>101</td>\n",
       "      <td>2003</td>\n",
       "      <td>379383</td>\n",
       "      <td>1</td>\n",
       "      <td>600104205</td>\n",
       "    </tr>\n",
       "    <tr>\n",
       "      <th>4</th>\n",
       "      <td>26</td>\n",
       "      <td>1</td>\n",
       "      <td>1</td>\n",
       "      <td>386419</td>\n",
       "      <td>222621</td>\n",
       "      <td>MCCRACKEN,WALSH,DELAVEN &amp; HETLER</td>\n",
       "      <td>386419</td>\n",
       "      <td>0</td>\n",
       "      <td>0</td>\n",
       "      <td>BARRINGTON</td>\n",
       "      <td>...</td>\n",
       "      <td>1011030030000</td>\n",
       "      <td>321977</td>\n",
       "      <td>609040</td>\n",
       "      <td>MAIN</td>\n",
       "      <td>ST</td>\n",
       "      <td>101</td>\n",
       "      <td>2003</td>\n",
       "      <td>222621</td>\n",
       "      <td>1</td>\n",
       "      <td>600104225</td>\n",
       "    </tr>\n",
       "  </tbody>\n",
       "</table>\n",
       "<p>5 rows × 24 columns</p>\n",
       "</div>"
      ],
      "text/plain": [
       "   appealnum  \\\n",
       "0        164   \n",
       "1        142   \n",
       "2        142   \n",
       "3        145   \n",
       "4         26   \n",
       "\n",
       "   area  ass_win  \\\n",
       "0     1        0   \n",
       "1     1        0   \n",
       "2     1        0   \n",
       "3     1        1   \n",
       "4     1        1   \n",
       "\n",
       "   assr_final  \\\n",
       "0       59618   \n",
       "1      114882   \n",
       "2      124517   \n",
       "3      563336   \n",
       "4      386419   \n",
       "\n",
       "   assr_rev  \\\n",
       "0         0   \n",
       "1         0   \n",
       "2         0   \n",
       "3    308144   \n",
       "4    222621   \n",
       "\n",
       "                     attorneytaxrep  \\\n",
       "0            KEARNEY & PHELAN, LTD.   \n",
       "1                   RIEFF & SCHRAMM   \n",
       "2                   RIEFF & SCHRAMM   \n",
       "3    EUGENE L. GRIFFIN & ASSOCIATES   \n",
       "4  MCCRACKEN,WALSH,DELAVEN & HETLER   \n",
       "\n",
       "   board_av  \\\n",
       "0     48260   \n",
       "1    114882   \n",
       "2    124517   \n",
       "3    492097   \n",
       "4    386419   \n",
       "\n",
       "   bor_rev  \\\n",
       "0    11358   \n",
       "1        0   \n",
       "2        0   \n",
       "3    71239   \n",
       "4        0   \n",
       "\n",
       "   bor_win  \\\n",
       "0        1   \n",
       "1        0   \n",
       "2        0   \n",
       "3        1   \n",
       "4        0   \n",
       "\n",
       "    city_name  \\\n",
       "0  BARRINGTON   \n",
       "1  BARRINGTON   \n",
       "2  BARRINGTON   \n",
       "3  BARRINGTON   \n",
       "4  BARRINGTON   \n",
       "\n",
       "     ...      \\\n",
       "0    ...       \n",
       "1    ...       \n",
       "2    ...       \n",
       "3    ...       \n",
       "4    ...       \n",
       "\n",
       "             pin  \\\n",
       "0  1011010200000   \n",
       "1  1011020010000   \n",
       "2  1011020050000   \n",
       "3  1011030020000   \n",
       "4  1011030030000   \n",
       "\n",
       "   prioir_av  \\\n",
       "0      59618   \n",
       "1     114882   \n",
       "2     124517   \n",
       "3     492099   \n",
       "4     321977   \n",
       "\n",
       "  proppose_av  \\\n",
       "0       59618   \n",
       "1      114882   \n",
       "2      124517   \n",
       "3      871480   \n",
       "4      609040   \n",
       "\n",
       "   street_name  \\\n",
       "0        HOUGH   \n",
       "1         COOK   \n",
       "2         PARK   \n",
       "3         MAIN   \n",
       "4         MAIN   \n",
       "\n",
       "   street_suffix  \\\n",
       "0             ST   \n",
       "1             ST   \n",
       "2            AVE   \n",
       "3             ST   \n",
       "4             ST   \n",
       "\n",
       "   subarea  \\\n",
       "0      101   \n",
       "1      101   \n",
       "2      101   \n",
       "3      101   \n",
       "4      101   \n",
       "\n",
       "   taxyear  \\\n",
       "0     2003   \n",
       "1     2003   \n",
       "2     2003   \n",
       "3     2003   \n",
       "4     2003   \n",
       "\n",
       "  total_rev win  \\\n",
       "0     11358   1   \n",
       "1         0   0   \n",
       "2         0   0   \n",
       "3    379383   1   \n",
       "4    222621   1   \n",
       "\n",
       "         zip  \n",
       "0  600104319  \n",
       "1  600104311  \n",
       "2  600104332  \n",
       "3  600104205  \n",
       "4  600104225  \n",
       "\n",
       "[5 rows x 24 columns]"
      ]
     },
     "execution_count": 71,
     "metadata": {},
     "output_type": "execute_result"
    }
   ],
   "source": [
    "adf.head()"
   ]
  },
  {
   "cell_type": "markdown",
   "metadata": {
    "collapsed": true
   },
   "source": [
    "### plot covariates to use for logistic regression / SVM\n",
    "### ML if person won or not - logistic regression\n",
    "#### what are the variables describin the passes? ass_win?\n",
    "### compare prior av to propose av"
   ]
  },
  {
   "cell_type": "markdown",
   "metadata": {},
   "source": [
    "### Wins by year"
   ]
  },
  {
   "cell_type": "code",
   "execution_count": 99,
   "metadata": {
    "collapsed": false
   },
   "outputs": [
    {
     "data": {
      "image/png": "[encoded data removed]",
      "text/plain": [
       "<matplotlib.figure.Figure at 0x18d739590>"
      ]
     },
     "metadata": {},
     "output_type": "display_data"
    }
   ],
   "source": [
    "#print pd.value_counts(df[\"win\"]).groupby(\"taxyear\")\n",
    "#df[\"citya_name\"].groupby(\"win\")\n",
    "#df.groupby(['taxyear']).mean()\n",
    "df.groupby(['taxyear','win']).size().unstack().plot(kind = \"bar\")\n",
    "plt.tight_layout()\n",
    "plt.savefig(path + \"/results/appeals-wins-by-year.png\")"
   ]
  },
  {
   "cell_type": "markdown",
   "metadata": {},
   "source": [
    "### Logistic Regression\n",
    "##### This includes data for all years - which may be an issue due to temporal differences"
   ]
  },
  {
   "cell_type": "code",
   "execution_count": 105,
   "metadata": {
    "collapsed": false
   },
   "outputs": [],
   "source": [
    "label = df['win']"
   ]
  },
  {
   "cell_type": "code",
   "execution_count": 107,
   "metadata": {
    "collapsed": false
   },
   "outputs": [],
   "source": [
    "features = df[\"proppose_av\"]"
   ]
  },
  {
   "cell_type": "code",
   "execution_count": null,
   "metadata": {
    "collapsed": true
   },
   "outputs": [],
   "source": []
  }
 ],
 "metadata": {
  "kernelspec": {
   "display_name": "Python 2",
   "language": "python",
   "name": "python2"
  },
  "language_info": {
   "codemirror_mode": {
    "name": "ipython",
    "version": 2
   },
   "file_extension": ".py",
   "mimetype": "text/x-python",
   "name": "python",
   "nbconvert_exporter": "python",
   "pygments_lexer": "ipython2",
   "version": "2.7.10"
  }
 },
 "nbformat": 4,
 "nbformat_minor": 0
}
