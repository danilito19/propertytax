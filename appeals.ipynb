{
 "cells": [
  {
   "cell_type": "code",
   "execution_count": null,
   "metadata": {
    "collapsed": true
   },
   "outputs": [],
   "source": []
  },
  {
   "cell_type": "code",
   "execution_count": 1,
   "metadata": {
    "collapsed": false
   },
   "outputs": [
    {
     "name": "stderr",
     "output_type": "stream",
     "text": [
      "/usr/local/lib/python2.7/site-packages/matplotlib/font_manager.py:273: UserWarning: Matplotlib is building the font cache using fc-list. This may take a moment.\n",
      "  warnings.warn('Matplotlib is building the font cache using fc-list. This may take a moment.')\n"
     ]
    }
   ],
   "source": [
    "import pandas as pd\n",
    "import csv\n",
    "import numpy as np \n",
    "import matplotlib.pyplot as plt\n",
    "%matplotlib inline  \n",
    "import pylab\n",
    "import os\n",
    "import glob\n",
    "import statsmodels.api as sm\n",
    "\n",
    "#path = os.getcwd() \n",
    "path = \"/Users/Dani/Dropbox/Muni_Finance_Lab/Raw_Data/Appeals\""
   ]
  },
  {
   "cell_type": "code",
   "execution_count": 2,
   "metadata": {
    "collapsed": false
   },
   "outputs": [
    {
     "name": "stdout",
     "output_type": "stream",
     "text": [
      "DONE CONCATINATING DATA\n"
     ]
    }
   ],
   "source": [
    "files = glob.glob(path + \"/*.csv\")\n",
    "frame = pd.DataFrame()\n",
    "\n",
    "list_ = []\n",
    "for file_ in files:\n",
    "    df = pd.read_csv(file_,index_col=None, header=0)\n",
    "    list_.append(df)\n",
    "df = pd.concat(list_)\n",
    "\n",
    "print \"DONE CONCATINATING DATA\""
   ]
  },
  {
   "cell_type": "code",
   "execution_count": 5,
   "metadata": {
    "collapsed": true
   },
   "outputs": [],
   "source": [
    "path15 = \"/Users/Dani/Dropbox/Muni_Finance_Lab/Raw_Data/Appeals/appeals15.csv\""
   ]
  },
  {
   "cell_type": "code",
   "execution_count": 6,
   "metadata": {
    "collapsed": false
   },
   "outputs": [],
   "source": [
    "df15 = df = pd.read_csv(path15,index_col=None, header=0)"
   ]
  },
  {
   "cell_type": "code",
   "execution_count": 8,
   "metadata": {
    "collapsed": false
   },
   "outputs": [
    {
     "data": {
      "text/plain": [
       "1    300665\n",
       "0     69518\n",
       "dtype: int64"
      ]
     },
     "execution_count": 8,
     "metadata": {},
     "output_type": "execute_result"
    }
   ],
   "source": [
    "df15['win'].value_counts()"
   ]
  },
  {
   "cell_type": "code",
   "execution_count": 10,
   "metadata": {
    "collapsed": false
   },
   "outputs": [
    {
     "data": {
      "text/plain": [
       "5454334012"
      ]
     },
     "execution_count": 10,
     "metadata": {},
     "output_type": "execute_result"
    }
   ],
   "source": [
    "df15.total_rev.sum()"
   ]
  },
  {
   "cell_type": "code",
   "execution_count": 11,
   "metadata": {
    "collapsed": true
   },
   "outputs": [],
   "source": [
    "df15 = df15[df15[\"proppose_av\"] != 0]"
   ]
  },
  {
   "cell_type": "code",
   "execution_count": 3,
   "metadata": {
    "collapsed": true
   },
   "outputs": [],
   "source": [
    "### filter ONLY for % revision\n",
    "df = df[df[\"proppose_av\"] != 0]"
   ]
  },
  {
   "cell_type": "code",
   "execution_count": 50,
   "metadata": {
    "collapsed": false
   },
   "outputs": [
    {
     "data": {
      "text/plain": [
       "Index([u'Unnamed: 0', u'pin', u'taxyear', u'appealnum', u'attorneytaxrep',\n",
       "       u'prioir_av', u'proppose_av', u'assr_final', u'board_av', u'housenum',\n",
       "       u'dir', u'street_name', u'street_suffix', u'city_name', u'zip', u'area',\n",
       "       u'subarea', u'ass_win', u'bor_win', u'bor_rev', u'assr_rev',\n",
       "       u'total_rev', u'classification', u'win', u'clean_name', u'%_rev',\n",
       "       u'class_type'],\n",
       "      dtype='object')"
      ]
     },
     "execution_count": 50,
     "metadata": {},
     "output_type": "execute_result"
    }
   ],
   "source": [
    "df.columns"
   ]
  },
  {
   "cell_type": "code",
   "execution_count": 12,
   "metadata": {
    "collapsed": false
   },
   "outputs": [
    {
     "name": "stderr",
     "output_type": "stream",
     "text": [
      "/Library/Python/2.7/site-packages/ipykernel/__main__.py:2: SettingWithCopyWarning: \n",
      "A value is trying to be set on a copy of a slice from a DataFrame.\n",
      "Try using .loc[row_indexer,col_indexer] = value instead\n",
      "\n",
      "See the the caveats in the documentation: http://pandas.pydata.org/pandas-docs/stable/indexing.html#indexing-view-versus-copy\n",
      "  from ipykernel import kernelapp as app\n",
      "/Library/Python/2.7/site-packages/ipykernel/__main__.py:3: SettingWithCopyWarning: \n",
      "A value is trying to be set on a copy of a slice from a DataFrame.\n",
      "Try using .loc[row_indexer,col_indexer] = value instead\n",
      "\n",
      "See the the caveats in the documentation: http://pandas.pydata.org/pandas-docs/stable/indexing.html#indexing-view-versus-copy\n",
      "  app.launch_new_instance()\n"
     ]
    }
   ],
   "source": [
    "## Creating dfs\n",
    "df15[\"%_rev\"] = df15[\"total_rev\"] / df15[\"proppose_av\"]\n",
    "df15[\"class_type\"] = df15[\"classification\"].apply(lambda x: str(x)[0])"
   ]
  },
  {
   "cell_type": "code",
   "execution_count": 14,
   "metadata": {
    "collapsed": true
   },
   "outputs": [],
   "source": [
    "df15_2 = df15[(df15[\"class_type\"] == \"2\")]\n",
    "df15_5 = df15[(df15[\"class_type\"] == \"5\")]"
   ]
  },
  {
   "cell_type": "code",
   "execution_count": 19,
   "metadata": {
    "collapsed": false
   },
   "outputs": [
    {
     "data": {
      "text/plain": [
       "(47410, 27)"
      ]
     },
     "execution_count": 19,
     "metadata": {},
     "output_type": "execute_result"
    }
   ],
   "source": [
    "df15_5.shape"
   ]
  },
  {
   "cell_type": "code",
   "execution_count": 22,
   "metadata": {
    "collapsed": false
   },
   "outputs": [
    {
     "name": "stdout",
     "output_type": "stream",
     "text": [
      "count      301061.000000\n",
      "mean         3288.750997\n",
      "std         28305.298202\n",
      "min        -66106.000000\n",
      "25%           331.000000\n",
      "50%          1513.000000\n",
      "75%          3623.000000\n",
      "max      13197047.000000\n",
      "Name: total_rev, dtype: float64\n",
      "count       47410.000000\n",
      "mean        81264.603586\n",
      "std        617639.458954\n",
      "min      -7287064.000000\n",
      "25%           118.000000\n",
      "50%          7327.500000\n",
      "75%         31849.500000\n",
      "max      38627854.000000\n",
      "Name: total_rev, dtype: float64\n"
     ]
    }
   ],
   "source": [
    "print df15_2[\"total_rev\"].describe()\n",
    "print df15_5[\"total_rev\"].describe()"
   ]
  },
  {
   "cell_type": "code",
   "execution_count": 23,
   "metadata": {
    "collapsed": false
   },
   "outputs": [
    {
     "name": "stdout",
     "output_type": "stream",
     "text": [
      "count    301061.000000\n",
      "mean          0.108362\n",
      "std           0.102287\n",
      "min          -1.624785\n",
      "25%           0.047268\n",
      "50%           0.099887\n",
      "75%           0.146474\n",
      "max           1.000000\n",
      "Name: %_rev, dtype: float64\n",
      "count    47410.000000\n",
      "mean         0.200821\n",
      "std          0.225259\n",
      "min        -19.551412\n",
      "25%          0.010904\n",
      "50%          0.160312\n",
      "75%          0.312473\n",
      "max          0.999992\n",
      "Name: %_rev, dtype: float64\n"
     ]
    }
   ],
   "source": [
    "print df15_2[\"%_rev\"].describe()\n",
    "print df15_5[\"%_rev\"].describe()"
   ]
  },
  {
   "cell_type": "code",
   "execution_count": 24,
   "metadata": {
    "collapsed": false
   },
   "outputs": [
    {
     "name": "stdout",
     "output_type": "stream",
     "text": [
      "1    250147\n",
      "0     50914\n",
      "dtype: int64\n",
      "1    36882\n",
      "0    10528\n",
      "dtype: int64\n"
     ]
    }
   ],
   "source": [
    "print df15_2[\"win\"].value_counts()\n",
    "print df15_5[\"win\"].value_counts()"
   ]
  },
  {
   "cell_type": "code",
   "execution_count": 38,
   "metadata": {
    "collapsed": false
   },
   "outputs": [
    {
     "name": "stdout",
     "output_type": "stream",
     "text": [
      "(230464, 27)\n",
      "(70597, 27)\n"
     ]
    }
   ],
   "source": [
    "## condos\n",
    "print df15_2[df15_2['classification'] == 299].shape\n",
    "print df15_2[df15_2['classification'] != 299].shape"
   ]
  },
  {
   "cell_type": "code",
   "execution_count": 43,
   "metadata": {
    "collapsed": false
   },
   "outputs": [
    {
     "name": "stdout",
     "output_type": "stream",
     "text": [
      "1    197887\n",
      "0     32577\n",
      "dtype: int64\n",
      "1    52260\n",
      "0    18337\n",
      "dtype: int64\n"
     ]
    }
   ],
   "source": [
    "## condos\n",
    "print df15_2[df15_2['classification'] == 299]['win'].value_counts()\n",
    "print df15_2[df15_2['classification'] != 299]['win'].value_counts()"
   ]
  },
  {
   "cell_type": "code",
   "execution_count": 7,
   "metadata": {
    "collapsed": true
   },
   "outputs": [],
   "source": [
    "## Creating dfs\n",
    "df[\"%_rev\"] = df[\"total_rev\"] / df[\"proppose_av\"]\n",
    "df15 = pd.read_csv(path + \"/appeals15.csv\",index_col=None, header=0)\n",
    "df[\"class_type\"] = df[\"classification\"].apply(lambda x: str(x)[0])\n",
    "df_2_5 = df[(df[\"class_type\"] == \"2\") | (df[\"class_type\"] == \"5\")]\n",
    "df_2 = df[(df[\"class_type\"] == \"2\")]\n",
    "df_5 = df[(df[\"class_type\"] == \"5\")]"
   ]
  },
  {
   "cell_type": "code",
   "execution_count": 5,
   "metadata": {
    "collapsed": true
   },
   "outputs": [],
   "source": [
    "def clean(name, remove_spaces=True):\n",
    "    '''\n",
    "    Given a name string, return a clean name \n",
    "    that is lowercase and only alphabetic characters.\n",
    "\n",
    "    If remove_spaces,\n",
    "        returns \"starbuckscoffeeco\"\n",
    "    if remove_spaces is False\n",
    "        return \"starbucks coffee co\"\n",
    "    '''\n",
    "\n",
    "    lower = name.lower()\n",
    "    if not remove_spaces:\n",
    "        p = re.sub(r'\\(([^\\)]+)\\)', '', lower)\n",
    "        return re.sub(r'[^a-z ]', '', p).strip()\n",
    "\n",
    "    else:\n",
    "        p = re.sub(r'\\(([^\\)]+)\\)', '', lower)\n",
    "        return re.sub(r'[^a-z]', '', lower)\n"
   ]
  },
  {
   "cell_type": "code",
   "execution_count": 6,
   "metadata": {
    "collapsed": false
   },
   "outputs": [
    {
     "data": {
      "text/plain": [
       "1"
      ]
     },
     "execution_count": 6,
     "metadata": {},
     "output_type": "execute_result"
    }
   ],
   "source": [
    "df15[\"attorneytaxrep\"].str.replace(\"\\.|\\s\", \"\")\n",
    "#.str.replace(\".\", \"\").replace(\" \", \"\")\n",
    "1"
   ]
  },
  {
   "cell_type": "code",
   "execution_count": 7,
   "metadata": {
    "collapsed": false
   },
   "outputs": [
    {
     "name": "stdout",
     "output_type": "stream",
     "text": [
      "**** column names:   \n",
      "['Unnamed: 0' 'pin' 'taxyear' 'appealnum' 'attorneytaxrep' 'prioir_av'\n",
      " 'proppose_av' 'assr_final' 'board_av' 'housenum' 'dir' 'street_name'\n",
      " 'street_suffix' 'city_name' 'zip' 'area' 'subarea' 'ass_win' 'bor_win'\n",
      " 'bor_rev' 'assr_rev' 'total_rev' 'classification' 'win' 'clean_name'\n",
      " '%_rev' 'class_type']\n",
      "**** statistics:  \n",
      "        Unnamed: 0  \\\n",
      "count  2607270.000   \n",
      "unique         nan   \n",
      "top            nan   \n",
      "freq           nan   \n",
      "mean    118534.188   \n",
      "std      84815.794   \n",
      "min          0.000   \n",
      "25%      50155.000   \n",
      "50%     103127.000   \n",
      "75%     169259.000   \n",
      "max     370182.000   \n",
      "\n",
      "                      pin  \\\n",
      "count         2607270.000   \n",
      "unique                nan   \n",
      "top                   nan   \n",
      "freq                  nan   \n",
      "mean   14503313178328.814   \n",
      "std     6206494268886.733   \n",
      "min     1011000020000.000   \n",
      "25%    11191030321001.250   \n",
      "50%    14334230481081.000   \n",
      "75%    17161070371149.000   \n",
      "max    33323020140000.000   \n",
      "\n",
      "           taxyear  \\\n",
      "count  2607270.000   \n",
      "unique         nan   \n",
      "top            nan   \n",
      "freq           nan   \n",
      "mean      2010.101   \n",
      "std          3.696   \n",
      "min       2003.000   \n",
      "25%       2007.000   \n",
      "50%       2011.000   \n",
      "75%       2013.000   \n",
      "max       2015.000   \n",
      "\n",
      "         appealnum  \\\n",
      "count  2607270.000   \n",
      "unique         nan   \n",
      "top            nan   \n",
      "freq           nan   \n",
      "mean    416667.489   \n",
      "std    1758512.067   \n",
      "min          1.000   \n",
      "25%       4161.000   \n",
      "50%      13404.000   \n",
      "75%      96695.000   \n",
      "max    9166902.000   \n",
      "\n",
      "              attorneytaxrep  \\\n",
      "count                2604420   \n",
      "unique                 12416   \n",
      "top     ELLIOTT & ASSOCIATES   \n",
      "freq                  171556   \n",
      "mean                     NaN   \n",
      "std                      NaN   \n",
      "min                      NaN   \n",
      "25%                      NaN   \n",
      "50%                      NaN   \n",
      "75%                      NaN   \n",
      "max                      NaN   \n",
      "\n",
      "           prioir_av  \\\n",
      "count    2607270.000   \n",
      "unique           nan   \n",
      "top              nan   \n",
      "freq             nan   \n",
      "mean       75268.428   \n",
      "std       860085.019   \n",
      "min            0.000   \n",
      "25%         8159.000   \n",
      "50%        18936.000   \n",
      "75%        38622.000   \n",
      "max    190000001.000   \n",
      "\n",
      "         proppose_av  \\\n",
      "count    2607270.000   \n",
      "unique           nan   \n",
      "top              nan   \n",
      "freq             nan   \n",
      "mean       98461.234   \n",
      "std      1006056.778   \n",
      "min            1.000   \n",
      "25%        11286.000   \n",
      "50%        22871.000   \n",
      "75%        46939.000   \n",
      "max    226853665.000   \n",
      "\n",
      "          assr_final  \\\n",
      "count    2607270.000   \n",
      "unique           nan   \n",
      "top              nan   \n",
      "freq             nan   \n",
      "mean       85134.417   \n",
      "std       933317.083   \n",
      "min            0.000   \n",
      "25%        10025.000   \n",
      "50%        21364.000   \n",
      "75%        43143.000   \n",
      "max    201411710.000   \n",
      "\n",
      "            board_av  \\\n",
      "count    2607270.000   \n",
      "unique           nan   \n",
      "top              nan   \n",
      "freq             nan   \n",
      "mean       78030.142   \n",
      "std       872914.097   \n",
      "min            0.000   \n",
      "25%         9295.000   \n",
      "50%        20030.000   \n",
      "75%        40310.000   \n",
      "max    190000001.000   \n",
      "\n",
      "             housenum  \\\n",
      "count     2607270.000   \n",
      "unique            nan   \n",
      "top               nan   \n",
      "freq              nan   \n",
      "mean        19759.342   \n",
      "std      10077483.016   \n",
      "min             0.000   \n",
      "25%           545.000   \n",
      "50%          1539.000   \n",
      "75%          4144.000   \n",
      "max    6240000702.000   \n",
      "\n",
      "           ...      \\\n",
      "count      ...       \n",
      "unique     ...       \n",
      "top        ...       \n",
      "freq       ...       \n",
      "mean       ...       \n",
      "std        ...       \n",
      "min        ...       \n",
      "25%        ...       \n",
      "50%        ...       \n",
      "75%        ...       \n",
      "max        ...       \n",
      "\n",
      "           ass_win  \\\n",
      "count  2607270.000   \n",
      "unique         nan   \n",
      "top            nan   \n",
      "freq           nan   \n",
      "mean         0.397   \n",
      "std          0.489   \n",
      "min          0.000   \n",
      "25%          0.000   \n",
      "50%          0.000   \n",
      "75%          1.000   \n",
      "max          1.000   \n",
      "\n",
      "           bor_win  \\\n",
      "count  2607270.000   \n",
      "unique         nan   \n",
      "top            nan   \n",
      "freq           nan   \n",
      "mean         0.552   \n",
      "std          0.497   \n",
      "min          0.000   \n",
      "25%          0.000   \n",
      "50%          1.000   \n",
      "75%          1.000   \n",
      "max          1.000   \n",
      "\n",
      "            bor_rev  \\\n",
      "count   2607270.000   \n",
      "unique          nan   \n",
      "top             nan   \n",
      "freq            nan   \n",
      "mean       7118.361   \n",
      "std      106698.492   \n",
      "min    -5593026.000   \n",
      "25%           0.000   \n",
      "50%         218.000   \n",
      "75%        2018.000   \n",
      "max    34460548.000   \n",
      "\n",
      "            assr_rev  \\\n",
      "count    2607270.000   \n",
      "unique           nan   \n",
      "top              nan   \n",
      "freq             nan   \n",
      "mean       13409.808   \n",
      "std       272338.048   \n",
      "min    -45115712.000   \n",
      "25%            0.000   \n",
      "50%            0.000   \n",
      "75%         1511.000   \n",
      "max    218987486.000   \n",
      "\n",
      "           total_rev  \\\n",
      "count    2607270.000   \n",
      "unique           nan   \n",
      "top              nan   \n",
      "freq             nan   \n",
      "mean       20481.667   \n",
      "std       289042.800   \n",
      "min    -36653732.000   \n",
      "25%            0.000   \n",
      "50%         1408.000   \n",
      "75%         4536.000   \n",
      "max    219339717.000   \n",
      "\n",
      "        classification  \\\n",
      "count      2607270.000   \n",
      "unique             nan   \n",
      "top                nan   \n",
      "freq               nan   \n",
      "mean           332.185   \n",
      "std            122.925   \n",
      "min              0.000   \n",
      "25%            299.000   \n",
      "50%            299.000   \n",
      "75%            299.000   \n",
      "max            997.000   \n",
      "\n",
      "               win  \\\n",
      "count  2607270.000   \n",
      "unique         nan   \n",
      "top            nan   \n",
      "freq           nan   \n",
      "mean         0.743   \n",
      "std          0.437   \n",
      "min          0.000   \n",
      "25%          0.000   \n",
      "50%          1.000   \n",
      "75%          1.000   \n",
      "max          1.000   \n",
      "\n",
      "                clean_name  \\\n",
      "count              2604420   \n",
      "unique               12283   \n",
      "top     ELLIOTT&ASSOCIATES   \n",
      "freq                171556   \n",
      "mean                   NaN   \n",
      "std                    NaN   \n",
      "min                    NaN   \n",
      "25%                    NaN   \n",
      "50%                    NaN   \n",
      "75%                    NaN   \n",
      "max                    NaN   \n",
      "\n",
      "              %_rev  \\\n",
      "count   2607270.000   \n",
      "unique          nan   \n",
      "top             nan   \n",
      "freq            nan   \n",
      "mean         -8.487   \n",
      "std        6491.493   \n",
      "min    -6889454.500   \n",
      "25%           0.000   \n",
      "50%           0.082   \n",
      "75%           0.178   \n",
      "max           1.000   \n",
      "\n",
      "        class_type  \n",
      "count      2607270  \n",
      "unique          10  \n",
      "top              2  \n",
      "freq       1996732  \n",
      "mean           NaN  \n",
      "std            NaN  \n",
      "min            NaN  \n",
      "25%            NaN  \n",
      "50%            NaN  \n",
      "75%            NaN  \n",
      "max            NaN  \n",
      "\n",
      "[11 rows x 27 columns]\n",
      "**** sum of null values by column:  \n",
      "Unnamed: 0             0\n",
      "pin                    0\n",
      "taxyear                0\n",
      "appealnum              0\n",
      "attorneytaxrep      2850\n",
      "prioir_av              0\n",
      "proppose_av            0\n",
      "assr_final             0\n",
      "board_av               0\n",
      "housenum               0\n",
      "dir               769130\n",
      "street_name         8764\n",
      "street_suffix      42461\n",
      "city_name           6862\n",
      "zip                    0\n",
      "area                   0\n",
      "subarea                0\n",
      "ass_win                0\n",
      "bor_win                0\n",
      "bor_rev                0\n",
      "assr_rev               0\n",
      "total_rev              0\n",
      "classification         0\n",
      "win                    0\n",
      "clean_name          2850\n",
      "%_rev                  0\n",
      "class_type             0\n",
      "dtype: int64\n",
      "**** correlation matrix:  \n",
      "                Unnamed: 0  \\\n",
      "Unnamed: 0           1.000   \n",
      "pin                  0.654   \n",
      "taxyear              0.364   \n",
      "appealnum            0.028   \n",
      "prioir_av           -0.004   \n",
      "proppose_av         -0.006   \n",
      "assr_final          -0.006   \n",
      "board_av            -0.005   \n",
      "housenum             0.002   \n",
      "zip                 -0.040   \n",
      "area                 0.654   \n",
      "subarea              0.654   \n",
      "ass_win              0.065   \n",
      "bor_win              0.008   \n",
      "bor_rev             -0.010   \n",
      "assr_rev            -0.004   \n",
      "total_rev           -0.008   \n",
      "classification       0.038   \n",
      "win                  0.042   \n",
      "%_rev               -0.001   \n",
      "\n",
      "                  pin  \\\n",
      "Unnamed: 0      0.654   \n",
      "pin             1.000   \n",
      "taxyear         0.059   \n",
      "appealnum       0.052   \n",
      "prioir_av      -0.001   \n",
      "proppose_av    -0.001   \n",
      "assr_final     -0.001   \n",
      "board_av       -0.000   \n",
      "housenum        0.000   \n",
      "zip            -0.036   \n",
      "area            1.000   \n",
      "subarea         1.000   \n",
      "ass_win         0.002   \n",
      "bor_win        -0.066   \n",
      "bor_rev        -0.003   \n",
      "assr_rev       -0.002   \n",
      "total_rev      -0.003   \n",
      "classification  0.120   \n",
      "win            -0.038   \n",
      "%_rev          -0.001   \n",
      "\n",
      "                taxyear  \\\n",
      "Unnamed: 0        0.364   \n",
      "pin               0.059   \n",
      "taxyear           1.000   \n",
      "appealnum         0.026   \n",
      "prioir_av        -0.018   \n",
      "proppose_av      -0.022   \n",
      "assr_final       -0.024   \n",
      "board_av         -0.022   \n",
      "housenum          0.001   \n",
      "zip               0.001   \n",
      "area              0.059   \n",
      "subarea           0.059   \n",
      "ass_win           0.258   \n",
      "bor_win           0.033   \n",
      "bor_rev          -0.027   \n",
      "assr_rev          0.001   \n",
      "total_rev        -0.009   \n",
      "classification   -0.049   \n",
      "win               0.151   \n",
      "%_rev            -0.001   \n",
      "\n",
      "                appealnum  \\\n",
      "Unnamed: 0          0.028   \n",
      "pin                 0.052   \n",
      "taxyear             0.026   \n",
      "appealnum           1.000   \n",
      "prioir_av           0.020   \n",
      "proppose_av         0.017   \n",
      "assr_final          0.018   \n",
      "board_av            0.018   \n",
      "housenum            0.002   \n",
      "zip                -0.019   \n",
      "area                0.052   \n",
      "subarea             0.052   \n",
      "ass_win             0.025   \n",
      "bor_win            -0.076   \n",
      "bor_rev             0.012   \n",
      "assr_rev            0.001   \n",
      "total_rev           0.005   \n",
      "classification      0.015   \n",
      "win                -0.034   \n",
      "%_rev              -0.003   \n",
      "\n",
      "                prioir_av  \\\n",
      "Unnamed: 0         -0.004   \n",
      "pin                -0.001   \n",
      "taxyear            -0.018   \n",
      "appealnum           0.020   \n",
      "prioir_av           1.000   \n",
      "proppose_av         0.938   \n",
      "assr_final          0.974   \n",
      "board_av            0.976   \n",
      "housenum           -0.000   \n",
      "zip                -0.028   \n",
      "area               -0.001   \n",
      "subarea            -0.001   \n",
      "ass_win             0.017   \n",
      "bor_win            -0.002   \n",
      "bor_rev             0.544   \n",
      "assr_rev            0.136   \n",
      "total_rev           0.326   \n",
      "classification      0.108   \n",
      "win                -0.000   \n",
      "%_rev               0.000   \n",
      "\n",
      "                proppose_av  \\\n",
      "Unnamed: 0           -0.006   \n",
      "pin                  -0.001   \n",
      "taxyear              -0.022   \n",
      "appealnum             0.017   \n",
      "prioir_av             0.938   \n",
      "proppose_av           1.000   \n",
      "assr_final            0.963   \n",
      "board_av              0.962   \n",
      "housenum             -0.000   \n",
      "zip                  -0.033   \n",
      "area                 -0.001   \n",
      "subarea              -0.001   \n",
      "ass_win               0.032   \n",
      "bor_win              -0.001   \n",
      "bor_rev               0.555   \n",
      "assr_rev              0.401   \n",
      "total_rev             0.579   \n",
      "classification        0.124   \n",
      "win                   0.010   \n",
      "%_rev                 0.000   \n",
      "\n",
      "                assr_final  \\\n",
      "Unnamed: 0          -0.006   \n",
      "pin                 -0.001   \n",
      "taxyear             -0.024   \n",
      "appealnum            0.018   \n",
      "prioir_av            0.974   \n",
      "proppose_av          0.963   \n",
      "assr_final           1.000   \n",
      "board_av             0.995   \n",
      "housenum            -0.000   \n",
      "zip                 -0.030   \n",
      "area                -0.001   \n",
      "subarea             -0.001   \n",
      "ass_win              0.014   \n",
      "bor_win              0.004   \n",
      "bor_rev              0.606   \n",
      "assr_rev             0.140   \n",
      "total_rev            0.353   \n",
      "classification       0.112   \n",
      "win                  0.000   \n",
      "%_rev               -0.014   \n",
      "\n",
      "                board_av  \\\n",
      "Unnamed: 0        -0.005   \n",
      "pin               -0.000   \n",
      "taxyear           -0.022   \n",
      "appealnum          0.018   \n",
      "prioir_av          0.976   \n",
      "proppose_av        0.962   \n",
      "assr_final         0.995   \n",
      "board_av           1.000   \n",
      "housenum          -0.000   \n",
      "zip               -0.030   \n",
      "area              -0.000   \n",
      "subarea           -0.000   \n",
      "ass_win            0.014   \n",
      "bor_win           -0.003   \n",
      "bor_rev            0.526   \n",
      "assr_rev           0.155   \n",
      "total_rev          0.336   \n",
      "classification     0.109   \n",
      "win               -0.004   \n",
      "%_rev             -0.015   \n",
      "\n",
      "                housenum  \\\n",
      "Unnamed: 0         0.002   \n",
      "pin                0.000   \n",
      "taxyear            0.001   \n",
      "appealnum          0.002   \n",
      "prioir_av         -0.000   \n",
      "proppose_av       -0.000   \n",
      "assr_final        -0.000   \n",
      "board_av          -0.000   \n",
      "housenum           1.000   \n",
      "zip               -0.009   \n",
      "area               0.000   \n",
      "subarea            0.000   \n",
      "ass_win            0.001   \n",
      "bor_win           -0.002   \n",
      "bor_rev           -0.000   \n",
      "assr_rev          -0.000   \n",
      "total_rev         -0.000   \n",
      "classification     0.000   \n",
      "win               -0.001   \n",
      "%_rev              0.000   \n",
      "\n",
      "                  zip  \\\n",
      "Unnamed: 0     -0.040   \n",
      "pin            -0.036   \n",
      "taxyear         0.001   \n",
      "appealnum      -0.019   \n",
      "prioir_av      -0.028   \n",
      "proppose_av    -0.033   \n",
      "assr_final     -0.030   \n",
      "board_av       -0.030   \n",
      "housenum       -0.009   \n",
      "zip             1.000   \n",
      "area           -0.036   \n",
      "subarea        -0.036   \n",
      "ass_win        -0.019   \n",
      "bor_win         0.044   \n",
      "bor_rev        -0.020   \n",
      "assr_rev       -0.019   \n",
      "total_rev      -0.025   \n",
      "classification -0.123   \n",
      "win             0.024   \n",
      "%_rev           0.007   \n",
      "\n",
      "                 area  \\\n",
      "Unnamed: 0      0.654   \n",
      "pin             1.000   \n",
      "taxyear         0.059   \n",
      "appealnum       0.052   \n",
      "prioir_av      -0.001   \n",
      "proppose_av    -0.001   \n",
      "assr_final     -0.001   \n",
      "board_av       -0.000   \n",
      "housenum        0.000   \n",
      "zip            -0.036   \n",
      "area            1.000   \n",
      "subarea         1.000   \n",
      "ass_win         0.002   \n",
      "bor_win        -0.065   \n",
      "bor_rev        -0.003   \n",
      "assr_rev       -0.002   \n",
      "total_rev      -0.003   \n",
      "classification  0.120   \n",
      "win            -0.038   \n",
      "%_rev          -0.001   \n",
      "\n",
      "                subarea  \\\n",
      "Unnamed: 0        0.654   \n",
      "pin               1.000   \n",
      "taxyear           0.059   \n",
      "appealnum         0.052   \n",
      "prioir_av        -0.001   \n",
      "proppose_av      -0.001   \n",
      "assr_final       -0.001   \n",
      "board_av         -0.000   \n",
      "housenum          0.000   \n",
      "zip              -0.036   \n",
      "area              1.000   \n",
      "subarea           1.000   \n",
      "ass_win           0.002   \n",
      "bor_win          -0.066   \n",
      "bor_rev          -0.003   \n",
      "assr_rev         -0.002   \n",
      "total_rev        -0.003   \n",
      "classification    0.120   \n",
      "win              -0.038   \n",
      "%_rev            -0.001   \n",
      "\n",
      "                ass_win  \\\n",
      "Unnamed: 0        0.065   \n",
      "pin               0.002   \n",
      "taxyear           0.258   \n",
      "appealnum         0.025   \n",
      "prioir_av         0.017   \n",
      "proppose_av       0.032   \n",
      "assr_final        0.014   \n",
      "board_av          0.014   \n",
      "housenum          0.001   \n",
      "zip              -0.019   \n",
      "area              0.002   \n",
      "subarea           0.002   \n",
      "ass_win           1.000   \n",
      "bor_win          -0.057   \n",
      "bor_rev           0.004   \n",
      "assr_rev          0.070   \n",
      "total_rev         0.067   \n",
      "classification    0.157   \n",
      "win               0.478   \n",
      "%_rev             0.001   \n",
      "\n",
      "                bor_win  \\\n",
      "Unnamed: 0        0.008   \n",
      "pin              -0.066   \n",
      "taxyear           0.033   \n",
      "appealnum        -0.076   \n",
      "prioir_av        -0.002   \n",
      "proppose_av      -0.001   \n",
      "assr_final        0.004   \n",
      "board_av         -0.003   \n",
      "housenum         -0.002   \n",
      "zip               0.044   \n",
      "area             -0.065   \n",
      "subarea          -0.066   \n",
      "ass_win          -0.057   \n",
      "bor_win           1.000   \n",
      "bor_rev           0.061   \n",
      "assr_rev         -0.017   \n",
      "total_rev         0.006   \n",
      "classification   -0.067   \n",
      "win               0.649   \n",
      "%_rev            -0.000   \n",
      "\n",
      "                bor_rev  \\\n",
      "Unnamed: 0       -0.010   \n",
      "pin              -0.003   \n",
      "taxyear          -0.027   \n",
      "appealnum         0.012   \n",
      "prioir_av         0.544   \n",
      "proppose_av       0.555   \n",
      "assr_final        0.606   \n",
      "board_av          0.526   \n",
      "housenum         -0.000   \n",
      "zip              -0.020   \n",
      "area             -0.003   \n",
      "subarea          -0.003   \n",
      "ass_win           0.004   \n",
      "bor_win           0.061   \n",
      "bor_rev           1.000   \n",
      "assr_rev         -0.027   \n",
      "total_rev         0.342   \n",
      "classification    0.088   \n",
      "win               0.031   \n",
      "%_rev            -0.003   \n",
      "\n",
      "                assr_rev  \\\n",
      "Unnamed: 0        -0.004   \n",
      "pin               -0.002   \n",
      "taxyear            0.001   \n",
      "appealnum          0.001   \n",
      "prioir_av          0.136   \n",
      "proppose_av        0.401   \n",
      "assr_final         0.140   \n",
      "board_av           0.155   \n",
      "housenum          -0.000   \n",
      "zip               -0.019   \n",
      "area              -0.002   \n",
      "subarea           -0.002   \n",
      "ass_win            0.070   \n",
      "bor_win           -0.017   \n",
      "bor_rev           -0.027   \n",
      "assr_rev           1.000   \n",
      "total_rev          0.928   \n",
      "classification     0.076   \n",
      "win                0.037   \n",
      "%_rev              0.049   \n",
      "\n",
      "                total_rev  \\\n",
      "Unnamed: 0         -0.008   \n",
      "pin                -0.003   \n",
      "taxyear            -0.009   \n",
      "appealnum           0.005   \n",
      "prioir_av           0.326   \n",
      "proppose_av         0.579   \n",
      "assr_final          0.353   \n",
      "board_av            0.336   \n",
      "housenum           -0.000   \n",
      "zip                -0.025   \n",
      "area               -0.003   \n",
      "subarea            -0.003   \n",
      "ass_win             0.067   \n",
      "bor_win             0.006   \n",
      "bor_rev             0.342   \n",
      "assr_rev            0.928   \n",
      "total_rev           1.000   \n",
      "classification      0.104   \n",
      "win                 0.046   \n",
      "%_rev               0.045   \n",
      "\n",
      "                classification  \\\n",
      "Unnamed: 0               0.038   \n",
      "pin                      0.120   \n",
      "taxyear                 -0.049   \n",
      "appealnum                0.015   \n",
      "prioir_av                0.108   \n",
      "proppose_av              0.124   \n",
      "assr_final               0.112   \n",
      "board_av                 0.109   \n",
      "housenum                 0.000   \n",
      "zip                     -0.123   \n",
      "area                     0.120   \n",
      "subarea                  0.120   \n",
      "ass_win                  0.157   \n",
      "bor_win                 -0.067   \n",
      "bor_rev                  0.088   \n",
      "assr_rev                 0.076   \n",
      "total_rev                0.104   \n",
      "classification           1.000   \n",
      "win                      0.051   \n",
      "%_rev                   -0.003   \n",
      "\n",
      "                  win  \\\n",
      "Unnamed: 0      0.042   \n",
      "pin            -0.038   \n",
      "taxyear         0.151   \n",
      "appealnum      -0.034   \n",
      "prioir_av      -0.000   \n",
      "proppose_av     0.010   \n",
      "assr_final      0.000   \n",
      "board_av       -0.004   \n",
      "housenum       -0.001   \n",
      "zip             0.024   \n",
      "area           -0.038   \n",
      "subarea        -0.038   \n",
      "ass_win         0.478   \n",
      "bor_win         0.649   \n",
      "bor_rev         0.031   \n",
      "assr_rev        0.037   \n",
      "total_rev       0.046   \n",
      "classification  0.051   \n",
      "win             1.000   \n",
      "%_rev           0.002   \n",
      "\n",
      "                %_rev  \n",
      "Unnamed: 0     -0.001  \n",
      "pin            -0.001  \n",
      "taxyear        -0.001  \n",
      "appealnum      -0.003  \n",
      "prioir_av       0.000  \n",
      "proppose_av     0.000  \n",
      "assr_final     -0.014  \n",
      "board_av       -0.015  \n",
      "housenum        0.000  \n",
      "zip             0.007  \n",
      "area           -0.001  \n",
      "subarea        -0.001  \n",
      "ass_win         0.001  \n",
      "bor_win        -0.000  \n",
      "bor_rev        -0.003  \n",
      "assr_rev        0.049  \n",
      "total_rev       0.045  \n",
      "classification -0.003  \n",
      "win             0.002  \n",
      "%_rev           1.000  \n"
     ]
    }
   ],
   "source": [
    "def print_statistics(data):\n",
    "    '''\n",
    "    Given a pandas dataframe, print dataframe statistics, correlation, and missing data.\n",
    "    '''\n",
    "    pd.set_option('display.width', 20)\n",
    "    pd.set_option('display.float_format', lambda x: '%.3f' % x)\n",
    "    print '**** column names:  ', \"\\n\", data.columns.values\n",
    "    #print '**** top of the data: ', \"\\n\",  data.head()\n",
    "    #print '**** dataframe shape: ', \"\\n\", data.shape\n",
    "    print '**** statistics: ', \"\\n\", data.describe(include='all')\n",
    "    #print '**** MODE: ', \"\\n\", data.mode()\n",
    "    print '**** sum of null values by column: ', \"\\n\", data.isnull().sum()\n",
    "    print '**** correlation matrix: ', \"\\n\", data.corr()\n",
    "\n",
    "print_statistics(df)"
   ]
  },
  {
   "cell_type": "code",
   "execution_count": 8,
   "metadata": {
    "collapsed": false
   },
   "outputs": [
    {
     "data": {
      "text/plain": [
       "count    2607270.000\n",
       "mean          -8.487\n",
       "std         6491.493\n",
       "min     -6889454.500\n",
       "25%            0.000\n",
       "50%            0.082\n",
       "75%            0.178\n",
       "max            1.000\n",
       "Name: %_rev, dtype: float64"
      ]
     },
     "execution_count": 8,
     "metadata": {},
     "output_type": "execute_result"
    }
   ],
   "source": [
    "#df[(pd.notnull(df['%_rev'])) | (df[\"proppose_av\"] != 0)].describe()\n",
    "df[\"%_rev\"].describe()"
   ]
  },
  {
   "cell_type": "markdown",
   "metadata": {
    "collapsed": true
   },
   "source": [
    "#### Appeals per year"
   ]
  },
  {
   "cell_type": "code",
   "execution_count": 9,
   "metadata": {
    "collapsed": false
   },
   "outputs": [
    {
     "data": {
      "image/png": "[encoded data removed]",
      "text/plain": [
       "<matplotlib.figure.Figure at 0x12f44bdd0>"
      ]
     },
     "metadata": {},
     "output_type": "display_data"
    }
   ],
   "source": [
    "ax = pd.value_counts(df[\"taxyear\"], sort=False).plot(kind = \"bar\", title = \"Count of appeals per year\")\n",
    "plt.tight_layout()\n",
    "ax.set_ylabel(\"# Appeals\")\n",
    "plt.savefig(os.getcwd()  + \"/results/appeals-per-year.png\")"
   ]
  },
  {
   "cell_type": "code",
   "execution_count": 103,
   "metadata": {
    "collapsed": false
   },
   "outputs": [
    {
     "data": {
      "image/png": "[encoded data removed]",
      "text/plain": [
       "<matplotlib.figure.Figure at 0x10befe190>"
      ]
     },
     "metadata": {},
     "output_type": "display_data"
    }
   ],
   "source": [
    "df_2_5.groupby(['taxyear','class_type']).size().unstack().plot(kind = \"bar\", stacked=True)\n",
    "plt.tight_layout()\n",
    "plt.savefig(os.getcwd() + \"/results/appeals-class2-5.png\")"
   ]
  },
  {
   "cell_type": "code",
   "execution_count": null,
   "metadata": {
    "collapsed": true
   },
   "outputs": [],
   "source": [
    "# condos = 299\n",
    "# create new variable of condo, not condo\n",
    "df_2[\"condo\"] = np.where(df_2['classification'] == 299, 1, 0)\n"
   ]
  },
  {
   "cell_type": "code",
   "execution_count": 39,
   "metadata": {
    "collapsed": false
   },
   "outputs": [
    {
     "data": {
      "image/png": "[encoded data removed]",
      "text/plain": [
       "<matplotlib.figure.Figure at 0x10d2a8890>"
      ]
     },
     "metadata": {},
     "output_type": "display_data"
    }
   ],
   "source": [
    "\n",
    "df_2.groupby(['taxyear','classification']).size().unstack().plot(kind = \"bar\", stacked=True)\n",
    "lgd = plt.legend(bbox_to_anchor=(1.05, 1), loc=2, borderaxespad=0., ncol = 5)\n",
    "#plt.tight_layout()\n",
    "plt.savefig(os.getcwd() + \"/results/appeals-condo.png\", bbox_extra_artists=(lgd,), bbox_inches='tight')\n",
    "\n"
   ]
  },
  {
   "cell_type": "code",
   "execution_count": 49,
   "metadata": {
    "collapsed": false
   },
   "outputs": [
    {
     "data": {
      "text/html": [
       "<div>\n",
       "<table border=\"1\" class=\"dataframe\">\n",
       "  <thead>\n",
       "    <tr style=\"text-align: right;\">\n",
       "      <th>condo</th>\n",
       "      <th>0</th>\n",
       "      <th>1</th>\n",
       "    </tr>\n",
       "    <tr>\n",
       "      <th>taxyear</th>\n",
       "      <th></th>\n",
       "      <th></th>\n",
       "    </tr>\n",
       "  </thead>\n",
       "  <tbody>\n",
       "    <tr>\n",
       "      <th>2003</th>\n",
       "      <td>18.356795</td>\n",
       "      <td>81.643205</td>\n",
       "    </tr>\n",
       "    <tr>\n",
       "      <th>2004</th>\n",
       "      <td>29.475543</td>\n",
       "      <td>70.524457</td>\n",
       "    </tr>\n",
       "    <tr>\n",
       "      <th>2005</th>\n",
       "      <td>45.626498</td>\n",
       "      <td>54.373502</td>\n",
       "    </tr>\n",
       "    <tr>\n",
       "      <th>2006</th>\n",
       "      <td>18.921554</td>\n",
       "      <td>81.078446</td>\n",
       "    </tr>\n",
       "    <tr>\n",
       "      <th>2007</th>\n",
       "      <td>28.670882</td>\n",
       "      <td>71.329118</td>\n",
       "    </tr>\n",
       "    <tr>\n",
       "      <th>2008</th>\n",
       "      <td>29.648138</td>\n",
       "      <td>70.351862</td>\n",
       "    </tr>\n",
       "    <tr>\n",
       "      <th>2009</th>\n",
       "      <td>18.106016</td>\n",
       "      <td>81.893984</td>\n",
       "    </tr>\n",
       "    <tr>\n",
       "      <th>2010</th>\n",
       "      <td>29.598220</td>\n",
       "      <td>70.401780</td>\n",
       "    </tr>\n",
       "    <tr>\n",
       "      <th>2011</th>\n",
       "      <td>29.385479</td>\n",
       "      <td>70.614521</td>\n",
       "    </tr>\n",
       "    <tr>\n",
       "      <th>2012</th>\n",
       "      <td>17.073950</td>\n",
       "      <td>82.926050</td>\n",
       "    </tr>\n",
       "    <tr>\n",
       "      <th>2013</th>\n",
       "      <td>28.805915</td>\n",
       "      <td>71.194085</td>\n",
       "    </tr>\n",
       "    <tr>\n",
       "      <th>2014</th>\n",
       "      <td>37.562862</td>\n",
       "      <td>62.437138</td>\n",
       "    </tr>\n",
       "    <tr>\n",
       "      <th>2015</th>\n",
       "      <td>23.449401</td>\n",
       "      <td>76.550599</td>\n",
       "    </tr>\n",
       "  </tbody>\n",
       "</table>\n",
       "</div>"
      ],
      "text/plain": [
       "condo            0          1\n",
       "taxyear                      \n",
       "2003     18.356795  81.643205\n",
       "2004     29.475543  70.524457\n",
       "2005     45.626498  54.373502\n",
       "2006     18.921554  81.078446\n",
       "2007     28.670882  71.329118\n",
       "2008     29.648138  70.351862\n",
       "2009     18.106016  81.893984\n",
       "2010     29.598220  70.401780\n",
       "2011     29.385479  70.614521\n",
       "2012     17.073950  82.926050\n",
       "2013     28.805915  71.194085\n",
       "2014     37.562862  62.437138\n",
       "2015     23.449401  76.550599"
      ]
     },
     "execution_count": 49,
     "metadata": {},
     "output_type": "execute_result"
    }
   ],
   "source": [
    "df_2.groupby(['taxyear','condo']).size().groupby(level=0).apply(lambda x: 100*x/float(x.sum())).unstack()"
   ]
  },
  {
   "cell_type": "markdown",
   "metadata": {},
   "source": [
    "### Top 20 attorneys / firms by all appeals"
   ]
  },
  {
   "cell_type": "code",
   "execution_count": 33,
   "metadata": {
    "collapsed": false
   },
   "outputs": [
    {
     "data": {
      "text/plain": [
       "1"
      ]
     },
     "execution_count": 33,
     "metadata": {},
     "output_type": "execute_result"
    }
   ],
   "source": [
    "pd.value_counts(df[\"attorneytaxrep\"])[:20]\n",
    "1"
   ]
  },
  {
   "cell_type": "markdown",
   "metadata": {},
   "source": [
    "### Top attorneys for 2015"
   ]
  },
  {
   "cell_type": "code",
   "execution_count": 35,
   "metadata": {
    "collapsed": false
   },
   "outputs": [
    {
     "data": {
      "text/plain": [
       "1"
      ]
     },
     "execution_count": 35,
     "metadata": {},
     "output_type": "execute_result"
    }
   ],
   "source": [
    "pd.value_counts(df15[\"attorneytaxrep\"])[:20]\n",
    "1"
   ]
  },
  {
   "cell_type": "markdown",
   "metadata": {},
   "source": [
    "### 2015 total revision by win / lose of appeal"
   ]
  },
  {
   "cell_type": "code",
   "execution_count": 204,
   "metadata": {
    "collapsed": false
   },
   "outputs": [
    {
     "data": {
      "text/plain": [
       "0.0"
      ]
     },
     "execution_count": 204,
     "metadata": {},
     "output_type": "execute_result"
    }
   ],
   "source": [
    "df15[df15[\"win\"] == 0][\"total_rev\"].mean()"
   ]
  },
  {
   "cell_type": "code",
   "execution_count": 106,
   "metadata": {
    "collapsed": false
   },
   "outputs": [
    {
     "name": "stdout",
     "output_type": "stream",
     "text": [
      "count    69518\n",
      "mean         0\n",
      "std          0\n",
      "min          0\n",
      "25%          0\n",
      "50%          0\n",
      "75%          0\n",
      "max          0\n",
      "Name: total_rev, dtype: float64\n",
      "win\n",
      "count      300665.000000\n",
      "mean        18140.901043\n",
      "std        253224.580296\n",
      "min      -7287064.000000\n",
      "25%           817.000000\n",
      "50%          2476.000000\n",
      "75%          5423.000000\n",
      "max      38627854.000000\n",
      "Name: total_rev, dtype: float64\n"
     ]
    },
    {
     "data": {
      "text/plain": [
       "1"
      ]
     },
     "execution_count": 106,
     "metadata": {},
     "output_type": "execute_result"
    }
   ],
   "source": [
    "print df15[df15[\"win\"] == 0][\"total_rev\"].describe()\n",
    "\n",
    "print \"win\"\n",
    "print df15[df15[\"win\"] == 1][\"total_rev\"].describe()\n"
   ]
  },
  {
   "cell_type": "code",
   "execution_count": 108,
   "metadata": {
    "collapsed": false
   },
   "outputs": [],
   "source": [
    "# plt.hist(df15[df15[\"win\"] == 1][\"total_rev\"])\n",
    "#plt.savefig(path + \"/results/distribution1_total_rev_year.png\")\n"
   ]
  },
  {
   "cell_type": "code",
   "execution_count": 109,
   "metadata": {
    "collapsed": false
   },
   "outputs": [],
   "source": [
    "\n",
    "#n, bins, patche = plt.hist(df15[(df15[\"total_rev\"] < 200000) & (df15[\"win\"] == 1)][\"total_rev\"], 10, range=[-10000, 200000])\n",
    "#plt.savefig(path + \"/results/distribution2_total_rev_year.png\")\n"
   ]
  },
  {
   "cell_type": "code",
   "execution_count": 110,
   "metadata": {
    "collapsed": false
   },
   "outputs": [],
   "source": [
    "\n",
    "#n, bins, patche = plt.hist(df15[(df15[\"total_rev\"] < 100000) & (df15[\"win\"] == 1)][\"total_rev\"], 10, range=[-10000, 100000])\n",
    "#plt.savefig(path + \"/results/distribution3_total_rev_year.png\")\n"
   ]
  },
  {
   "cell_type": "code",
   "execution_count": 111,
   "metadata": {
    "collapsed": false
   },
   "outputs": [],
   "source": [
    "#n, bins, patche = plt.hist(df15[(df15[\"total_rev\"] < 30000) & (df15[\"win\"] == 1)][\"total_rev\"], 10, range=[-10000, 30000])\n",
    "#plt.savefig(path + \"/results/distribution4_total_rev_year.png\")"
   ]
  },
  {
   "cell_type": "code",
   "execution_count": 29,
   "metadata": {
    "collapsed": false
   },
   "outputs": [
    {
     "data": {
      "text/plain": [
       "1"
      ]
     },
     "execution_count": 29,
     "metadata": {},
     "output_type": "execute_result"
    }
   ],
   "source": [
    "#n, bins, patche = plt.hist(df15[(df15[\"total_rev\"] < 10000) & (df15[\"win\"] == 1)][\"total_rev\"], 10, range=[-1000, 10000])\n",
    "#plt.savefig(path + \"/results/distribution5_total_rev_year.png\")\n",
    "1"
   ]
  },
  {
   "cell_type": "code",
   "execution_count": 31,
   "metadata": {
    "collapsed": false
   },
   "outputs": [
    {
     "data": {
      "text/plain": [
       "1"
      ]
     },
     "execution_count": 31,
     "metadata": {},
     "output_type": "execute_result"
    }
   ],
   "source": [
    "df15[[\"prioir_av\",\"proppose_av\", \"assr_final\", \"board_av\", \"win\", \"assr_rev\", \"total_rev\"]]\n",
    "1"
   ]
  },
  {
   "cell_type": "code",
   "execution_count": 163,
   "metadata": {
    "collapsed": false
   },
   "outputs": [
    {
     "data": {
      "image/png": "[encoded data removed]",
      "text/plain": [
       "<matplotlib.figure.Figure at 0x18f48b610>"
      ]
     },
     "metadata": {},
     "output_type": "display_data"
    }
   ],
   "source": [
    "ax = df.groupby(['taxyear']).mean()['total_rev'].plot(title=\"Average total revision by tax year\")\n",
    "ax.set_ylabel(\"Average total_rev\")\n",
    "plt.savefig(path + \"/results/avg_total_rev_year.png\")"
   ]
  },
  {
   "cell_type": "code",
   "execution_count": 46,
   "metadata": {
    "collapsed": false
   },
   "outputs": [
    {
     "data": {
      "text/plain": [
       "<matplotlib.text.Text at 0x11142d6d0>"
      ]
     },
     "execution_count": 46,
     "metadata": {},
     "output_type": "execute_result"
    },
    {
     "data": {
      "image/png": "[encoded data removed]",
      "text/plain": [
       "<matplotlib.figure.Figure at 0x10fd56c10>"
      ]
     },
     "metadata": {},
     "output_type": "display_data"
    }
   ],
   "source": [
    "## total revision for residential only\n",
    "ax = df_2.groupby(['taxyear']).mean()['total_rev'].plot(title=\"Average total revision by tax year for RESIDENTIAL\", kind= \"bar\", color = \"green\")\n",
    "ax.set_ylabel(\"Average total_rev\")\n",
    "#plt.savefig(os.getcwd() + \"/results/avg_total_rev_year_RESIDENTIAL.png\")\n"
   ]
  },
  {
   "cell_type": "code",
   "execution_count": 51,
   "metadata": {
    "collapsed": false
   },
   "outputs": [
    {
     "data": {
      "image/png": "[encoded data removed]",
      "text/plain": [
       "<matplotlib.figure.Figure at 0x10a531a50>"
      ]
     },
     "metadata": {},
     "output_type": "display_data"
    }
   ],
   "source": [
    "ax = df_2.groupby(['taxyear','win']).size().unstack().plot(kind = \"bar\", stacked=True, title=\"Count of appeals per year by won/ lost appeals\")\n",
    "\n",
    "plt.tight_layout()\n",
    "plt.savefig(os.getcwd() + \"/results/appeals-count-win.png\")"
   ]
  },
  {
   "cell_type": "code",
   "execution_count": 45,
   "metadata": {
    "collapsed": false
   },
   "outputs": [
    {
     "data": {
      "image/png": "[encoded data removed]",
      "text/plain": [
       "<matplotlib.figure.Figure at 0x11c94e150>"
      ]
     },
     "metadata": {},
     "output_type": "display_data"
    }
   ],
   "source": [
    "## total revision for commercial only\n",
    "ax = df_5.garoupby(['taxyear']).mean()['total_rev'].plot(title=\"Average total revision by tax year for COMMERCIAL\", color = \"red\")\n",
    "ax.set_ylabel(\"Average total_rev\")\n",
    "plt.savefig(os.getcwd() + \"/results/avg_total_rev_year_COMM.png\")\n"
   ]
  },
  {
   "cell_type": "code",
   "execution_count": 132,
   "metadata": {
    "collapsed": false
   },
   "outputs": [
    {
     "data": {
      "image/png": "[encoded data removed]",
      "text/plain": [
       "<matplotlib.figure.Figure at 0x10a34aa90>"
      ]
     },
     "metadata": {},
     "output_type": "display_data"
    }
   ],
   "source": [
    "### boxplot for each year for residential of total_rev\n",
    "\n",
    "ax = df_2.boxplot(column=\"total_rev\", by=\"taxyear\", sym=\"k.\")\n",
    "\n",
    "\n",
    "ax.set_ylim([-10000, 10000])\n",
    "plt.savefig(os.getcwd() + \"/results/boxplot_revision3.png\")"
   ]
  },
  {
   "cell_type": "code",
   "execution_count": 138,
   "metadata": {
    "collapsed": false
   },
   "outputs": [
    {
     "data": {
      "image/png": "[encoded data removed]",
      "text/plain": [
       "<matplotlib.figure.Figure at 0x11711eed0>"
      ]
     },
     "metadata": {},
     "output_type": "display_data"
    }
   ],
   "source": [
    "### boxplot for each year for commercial of total_rev\n",
    "\n",
    "ax = df_5.boxplot(column=\"total_rev\", by=\"taxyear\", sym=\"k.\")\n",
    "\n",
    "\n",
    "ax.set_ylim([-100000, 100000])\n",
    "plt.savefig(os.getcwd() + \"/results/COMboxplot_revision2.png\")"
   ]
  },
  {
   "cell_type": "code",
   "execution_count": 144,
   "metadata": {
    "collapsed": false
   },
   "outputs": [
    {
     "data": {
      "image/png": "[encoded data removed]",
      "text/plain": [
       "<matplotlib.figure.Figure at 0x16f5bee50>"
      ]
     },
     "metadata": {},
     "output_type": "display_data"
    }
   ],
   "source": [
    "## total revision / proppose_av\n",
    "ax = df_5.groupby(['taxyear']).mean()['proppose_av'].plot(title=\"Average Commercial property value by tax year\", color=\"red\")\n",
    "ax.set_ylabel(\"Average proppose_av\")\n",
    "plt.savefig(os.getcwd() + \"/results/avg_commercial_value.png\")"
   ]
  },
  {
   "cell_type": "code",
   "execution_count": 14,
   "metadata": {
    "collapsed": false
   },
   "outputs": [
    {
     "data": {
      "image/png": "[encoded data removed]",
      "text/plain": [
       "<matplotlib.figure.Figure at 0x10c699710>"
      ]
     },
     "metadata": {},
     "output_type": "display_data"
    }
   ],
   "source": [
    "## total revision / proppose_av\n",
    "\n",
    "ax = df_2[df_2[\"win\"] == 1].groupby(['taxyear']).mean()['%_rev'].plot(title=\"Average % revision by tax year\", color=\"green\",kind=\"bar\")\n",
    "ax.set_ylabel(\"Average % revision\")\n",
    "#ax.set_ylim([-1, 1])\n",
    "plt.savefig(os.getcwd() + \"/results/avg_residential_%rev_WON.png\")"
   ]
  },
  {
   "cell_type": "code",
   "execution_count": 15,
   "metadata": {
    "collapsed": false
   },
   "outputs": [
    {
     "data": {
      "image/png": "[encoded data removed]",
      "text/plain": [
       "<matplotlib.figure.Figure at 0x10c3d3990>"
      ]
     },
     "metadata": {},
     "output_type": "display_data"
    }
   ],
   "source": [
    "ax = df_2[df_2[\"win\"] == 0].groupby(['taxyear']).mean()['%_rev'].plot(title=\"Average % revision by tax year\", color=\"red\",kind=\"bar\")\n",
    "ax.set_ylabel(\"Average % revision\")\n",
    "plt.savefig(os.getcwd() + \"/results/avg_residential_%rev_LOST.png\")"
   ]
  },
  {
   "cell_type": "code",
   "execution_count": 25,
   "metadata": {
    "collapsed": false
   },
   "outputs": [
    {
     "data": {
      "image/png": "[encoded data removed]",
      "text/plain": [
       "<matplotlib.figure.Figure at 0x10ee55050>"
      ]
     },
     "metadata": {},
     "output_type": "display_data"
    }
   ],
   "source": [
    "ax = df_5.groupby(['taxyear']).mean()['%_rev'].plot(title=\"Average % revision by tax year\", color=\"red\", kind=\"bar\")\n",
    "ax.set_ylabel(\"Average % revision\")\n",
    "ax.set_ylim([-1, 1])\n",
    "plt.savefig(os.getcwd() + \"/results/avg_commercial2_%rev.png\")"
   ]
  },
  {
   "cell_type": "code",
   "execution_count": 22,
   "metadata": {
    "collapsed": false
   },
   "outputs": [
    {
     "data": {
      "text/html": [
       "<div>\n",
       "<table border=\"1\" class=\"dataframe\">\n",
       "  <thead>\n",
       "    <tr style=\"text-align: right;\">\n",
       "      <th></th>\n",
       "      <th>taxyear</th>\n",
       "      <th>prioir_av</th>\n",
       "      <th>proppose_av</th>\n",
       "      <th>board_av</th>\n",
       "      <th>total_rev</th>\n",
       "      <th>%_rev</th>\n",
       "    </tr>\n",
       "  </thead>\n",
       "  <tbody>\n",
       "    <tr>\n",
       "      <th>148640</th>\n",
       "      <td>2003</td>\n",
       "      <td>127683</td>\n",
       "      <td>2</td>\n",
       "      <td>132999</td>\n",
       "      <td>-132997</td>\n",
       "      <td>-66498.500000</td>\n",
       "    </tr>\n",
       "    <tr>\n",
       "      <th>137082</th>\n",
       "      <td>2006</td>\n",
       "      <td>682768</td>\n",
       "      <td>1</td>\n",
       "      <td>1586558</td>\n",
       "      <td>-1586557</td>\n",
       "      <td>-1586557.000000</td>\n",
       "    </tr>\n",
       "    <tr>\n",
       "      <th>33436</th>\n",
       "      <td>2009</td>\n",
       "      <td>8288531</td>\n",
       "      <td>405</td>\n",
       "      <td>7010581</td>\n",
       "      <td>-7010176</td>\n",
       "      <td>-17309.076543</td>\n",
       "    </tr>\n",
       "    <tr>\n",
       "      <th>154868</th>\n",
       "      <td>2010</td>\n",
       "      <td>221</td>\n",
       "      <td>279</td>\n",
       "      <td>30721</td>\n",
       "      <td>-30442</td>\n",
       "      <td>-109.111111</td>\n",
       "    </tr>\n",
       "    <tr>\n",
       "      <th>152804</th>\n",
       "      <td>2013</td>\n",
       "      <td>12</td>\n",
       "      <td>12</td>\n",
       "      <td>5407</td>\n",
       "      <td>-5395</td>\n",
       "      <td>-449.583333</td>\n",
       "    </tr>\n",
       "    <tr>\n",
       "      <th>195335</th>\n",
       "      <td>2013</td>\n",
       "      <td>0</td>\n",
       "      <td>2</td>\n",
       "      <td>4798095</td>\n",
       "      <td>-4798093</td>\n",
       "      <td>-2399046.500000</td>\n",
       "    </tr>\n",
       "    <tr>\n",
       "      <th>195336</th>\n",
       "      <td>2013</td>\n",
       "      <td>0</td>\n",
       "      <td>2</td>\n",
       "      <td>1539752</td>\n",
       "      <td>-1539750</td>\n",
       "      <td>-769875.000000</td>\n",
       "    </tr>\n",
       "    <tr>\n",
       "      <th>195337</th>\n",
       "      <td>2013</td>\n",
       "      <td>0</td>\n",
       "      <td>2</td>\n",
       "      <td>1295580</td>\n",
       "      <td>-1295578</td>\n",
       "      <td>-647789.000000</td>\n",
       "    </tr>\n",
       "    <tr>\n",
       "      <th>195338</th>\n",
       "      <td>2013</td>\n",
       "      <td>0</td>\n",
       "      <td>2</td>\n",
       "      <td>13328066</td>\n",
       "      <td>-13328064</td>\n",
       "      <td>-6664032.000000</td>\n",
       "    </tr>\n",
       "    <tr>\n",
       "      <th>195339</th>\n",
       "      <td>2013</td>\n",
       "      <td>0</td>\n",
       "      <td>2</td>\n",
       "      <td>5864339</td>\n",
       "      <td>-5864337</td>\n",
       "      <td>-2932168.500000</td>\n",
       "    </tr>\n",
       "    <tr>\n",
       "      <th>195340</th>\n",
       "      <td>2013</td>\n",
       "      <td>0</td>\n",
       "      <td>2</td>\n",
       "      <td>569497</td>\n",
       "      <td>-569495</td>\n",
       "      <td>-284747.500000</td>\n",
       "    </tr>\n",
       "    <tr>\n",
       "      <th>195341</th>\n",
       "      <td>2013</td>\n",
       "      <td>0</td>\n",
       "      <td>2</td>\n",
       "      <td>323894</td>\n",
       "      <td>-323892</td>\n",
       "      <td>-161946.000000</td>\n",
       "    </tr>\n",
       "    <tr>\n",
       "      <th>195342</th>\n",
       "      <td>2013</td>\n",
       "      <td>0</td>\n",
       "      <td>2</td>\n",
       "      <td>13778911</td>\n",
       "      <td>-13778909</td>\n",
       "      <td>-6889454.500000</td>\n",
       "    </tr>\n",
       "  </tbody>\n",
       "</table>\n",
       "</div>"
      ],
      "text/plain": [
       "        taxyear  prioir_av  proppose_av  board_av  total_rev           %_rev\n",
       "148640     2003     127683            2    132999    -132997   -66498.500000\n",
       "137082     2006     682768            1   1586558   -1586557 -1586557.000000\n",
       "33436      2009    8288531          405   7010581   -7010176   -17309.076543\n",
       "154868     2010        221          279     30721     -30442     -109.111111\n",
       "152804     2013         12           12      5407      -5395     -449.583333\n",
       "195335     2013          0            2   4798095   -4798093 -2399046.500000\n",
       "195336     2013          0            2   1539752   -1539750  -769875.000000\n",
       "195337     2013          0            2   1295580   -1295578  -647789.000000\n",
       "195338     2013          0            2  13328066  -13328064 -6664032.000000\n",
       "195339     2013          0            2   5864339   -5864337 -2932168.500000\n",
       "195340     2013          0            2    569497    -569495  -284747.500000\n",
       "195341     2013          0            2    323894    -323892  -161946.000000\n",
       "195342     2013          0            2  13778911  -13778909 -6889454.500000"
      ]
     },
     "execution_count": 22,
     "metadata": {},
     "output_type": "execute_result"
    }
   ],
   "source": [
    "df_5[df_5[\"%_rev\"] < - 100][['taxyear', \"prioir_av\", \"proppose_av\", \"board_av\", \"total_rev\", \"%_rev\"]]\n",
    "#[['total_rev', 'proppose_av', \"%_rev\"]]"
   ]
  },
  {
   "cell_type": "code",
   "execution_count": 42,
   "metadata": {
    "collapsed": false
   },
   "outputs": [
    {
     "data": {
      "image/png": "[encoded data removed]",
      "text/plain": [
       "<matplotlib.figure.Figure at 0x10ff65f10>"
      ]
     },
     "metadata": {},
     "output_type": "display_data"
    }
   ],
   "source": [
    "### boxplot for each year for commercial of total_rev\n",
    "ax = df_2.boxplot(column=\"%_rev\", by=\"taxyear\", sym=\"k.\")\n",
    "\n",
    "\n",
    "ax.set_ylim([-2, 1])\n",
    "plt.savefig(os.getcwd() + \"/results/RESboxplot_%_revision.png\")"
   ]
  },
  {
   "cell_type": "code",
   "execution_count": 54,
   "metadata": {
    "collapsed": false
   },
   "outputs": [
    {
     "data": {
      "text/html": [
       "<div>\n",
       "<table border=\"1\" class=\"dataframe\">\n",
       "  <thead>\n",
       "    <tr style=\"text-align: right;\">\n",
       "      <th></th>\n",
       "      <th>win</th>\n",
       "      <th>0</th>\n",
       "      <th>1</th>\n",
       "      <th>All</th>\n",
       "    </tr>\n",
       "    <tr>\n",
       "      <th>taxyear</th>\n",
       "      <th>condo</th>\n",
       "      <th></th>\n",
       "      <th></th>\n",
       "      <th></th>\n",
       "    </tr>\n",
       "  </thead>\n",
       "  <tbody>\n",
       "    <tr>\n",
       "      <th rowspan=\"2\" valign=\"top\">2003</th>\n",
       "      <th>0</th>\n",
       "      <td>8186</td>\n",
       "      <td>13969</td>\n",
       "      <td>22155</td>\n",
       "    </tr>\n",
       "    <tr>\n",
       "      <th>1</th>\n",
       "      <td>52900</td>\n",
       "      <td>45636</td>\n",
       "      <td>98536</td>\n",
       "    </tr>\n",
       "    <tr>\n",
       "      <th rowspan=\"2\" valign=\"top\">2004</th>\n",
       "      <th>0</th>\n",
       "      <td>8724</td>\n",
       "      <td>18489</td>\n",
       "      <td>27213</td>\n",
       "    </tr>\n",
       "    <tr>\n",
       "      <th>1</th>\n",
       "      <td>40543</td>\n",
       "      <td>24568</td>\n",
       "      <td>65111</td>\n",
       "    </tr>\n",
       "    <tr>\n",
       "      <th rowspan=\"2\" valign=\"top\">2005</th>\n",
       "      <th>0</th>\n",
       "      <td>5988</td>\n",
       "      <td>9812</td>\n",
       "      <td>15800</td>\n",
       "    </tr>\n",
       "    <tr>\n",
       "      <th>1</th>\n",
       "      <td>11181</td>\n",
       "      <td>7648</td>\n",
       "      <td>18829</td>\n",
       "    </tr>\n",
       "    <tr>\n",
       "      <th rowspan=\"2\" valign=\"top\">2006</th>\n",
       "      <th>0</th>\n",
       "      <td>9171</td>\n",
       "      <td>18196</td>\n",
       "      <td>27367</td>\n",
       "    </tr>\n",
       "    <tr>\n",
       "      <th>1</th>\n",
       "      <td>45855</td>\n",
       "      <td>71412</td>\n",
       "      <td>117267</td>\n",
       "    </tr>\n",
       "    <tr>\n",
       "      <th rowspan=\"2\" valign=\"top\">2007</th>\n",
       "      <th>0</th>\n",
       "      <td>6354</td>\n",
       "      <td>28240</td>\n",
       "      <td>34594</td>\n",
       "    </tr>\n",
       "    <tr>\n",
       "      <th>1</th>\n",
       "      <td>16870</td>\n",
       "      <td>69195</td>\n",
       "      <td>86065</td>\n",
       "    </tr>\n",
       "    <tr>\n",
       "      <th rowspan=\"2\" valign=\"top\">2008</th>\n",
       "      <th>0</th>\n",
       "      <td>4966</td>\n",
       "      <td>16689</td>\n",
       "      <td>21655</td>\n",
       "    </tr>\n",
       "    <tr>\n",
       "      <th>1</th>\n",
       "      <td>11963</td>\n",
       "      <td>39422</td>\n",
       "      <td>51385</td>\n",
       "    </tr>\n",
       "    <tr>\n",
       "      <th rowspan=\"2\" valign=\"top\">2009</th>\n",
       "      <th>0</th>\n",
       "      <td>12274</td>\n",
       "      <td>28267</td>\n",
       "      <td>40541</td>\n",
       "    </tr>\n",
       "    <tr>\n",
       "      <th>1</th>\n",
       "      <td>33124</td>\n",
       "      <td>150244</td>\n",
       "      <td>183368</td>\n",
       "    </tr>\n",
       "    <tr>\n",
       "      <th rowspan=\"2\" valign=\"top\">2010</th>\n",
       "      <th>0</th>\n",
       "      <td>9369</td>\n",
       "      <td>37852</td>\n",
       "      <td>47221</td>\n",
       "    </tr>\n",
       "    <tr>\n",
       "      <th>1</th>\n",
       "      <td>13823</td>\n",
       "      <td>98496</td>\n",
       "      <td>112319</td>\n",
       "    </tr>\n",
       "    <tr>\n",
       "      <th rowspan=\"2\" valign=\"top\">2011</th>\n",
       "      <th>0</th>\n",
       "      <td>6987</td>\n",
       "      <td>23000</td>\n",
       "      <td>29987</td>\n",
       "    </tr>\n",
       "    <tr>\n",
       "      <th>1</th>\n",
       "      <td>18391</td>\n",
       "      <td>53669</td>\n",
       "      <td>72060</td>\n",
       "    </tr>\n",
       "    <tr>\n",
       "      <th rowspan=\"2\" valign=\"top\">2012</th>\n",
       "      <th>0</th>\n",
       "      <td>12618</td>\n",
       "      <td>32811</td>\n",
       "      <td>45429</td>\n",
       "    </tr>\n",
       "    <tr>\n",
       "      <th>1</th>\n",
       "      <td>23342</td>\n",
       "      <td>197301</td>\n",
       "      <td>220643</td>\n",
       "    </tr>\n",
       "    <tr>\n",
       "      <th rowspan=\"2\" valign=\"top\">2013</th>\n",
       "      <th>0</th>\n",
       "      <td>16478</td>\n",
       "      <td>46244</td>\n",
       "      <td>62722</td>\n",
       "    </tr>\n",
       "    <tr>\n",
       "      <th>1</th>\n",
       "      <td>32783</td>\n",
       "      <td>122235</td>\n",
       "      <td>155018</td>\n",
       "    </tr>\n",
       "    <tr>\n",
       "      <th rowspan=\"2\" valign=\"top\">2014</th>\n",
       "      <th>0</th>\n",
       "      <td>12550</td>\n",
       "      <td>40183</td>\n",
       "      <td>52733</td>\n",
       "    </tr>\n",
       "    <tr>\n",
       "      <th>1</th>\n",
       "      <td>41004</td>\n",
       "      <td>46649</td>\n",
       "      <td>87653</td>\n",
       "    </tr>\n",
       "    <tr>\n",
       "      <th rowspan=\"2\" valign=\"top\">2015</th>\n",
       "      <th>0</th>\n",
       "      <td>18337</td>\n",
       "      <td>52260</td>\n",
       "      <td>70597</td>\n",
       "    </tr>\n",
       "    <tr>\n",
       "      <th>1</th>\n",
       "      <td>32577</td>\n",
       "      <td>197887</td>\n",
       "      <td>230464</td>\n",
       "    </tr>\n",
       "    <tr>\n",
       "      <th>All</th>\n",
       "      <th></th>\n",
       "      <td>506358</td>\n",
       "      <td>1490374</td>\n",
       "      <td>1996732</td>\n",
       "    </tr>\n",
       "  </tbody>\n",
       "</table>\n",
       "</div>"
      ],
      "text/plain": [
       "win                 0        1      All\n",
       "taxyear condo                          \n",
       "2003    0        8186    13969    22155\n",
       "        1       52900    45636    98536\n",
       "2004    0        8724    18489    27213\n",
       "        1       40543    24568    65111\n",
       "2005    0        5988     9812    15800\n",
       "        1       11181     7648    18829\n",
       "2006    0        9171    18196    27367\n",
       "        1       45855    71412   117267\n",
       "2007    0        6354    28240    34594\n",
       "        1       16870    69195    86065\n",
       "2008    0        4966    16689    21655\n",
       "        1       11963    39422    51385\n",
       "2009    0       12274    28267    40541\n",
       "        1       33124   150244   183368\n",
       "2010    0        9369    37852    47221\n",
       "        1       13823    98496   112319\n",
       "2011    0        6987    23000    29987\n",
       "        1       18391    53669    72060\n",
       "2012    0       12618    32811    45429\n",
       "        1       23342   197301   220643\n",
       "2013    0       16478    46244    62722\n",
       "        1       32783   122235   155018\n",
       "2014    0       12550    40183    52733\n",
       "        1       41004    46649    87653\n",
       "2015    0       18337    52260    70597\n",
       "        1       32577   197887   230464\n",
       "All            506358  1490374  1996732"
      ]
     },
     "execution_count": 54,
     "metadata": {},
     "output_type": "execute_result"
    }
   ],
   "source": [
    "# condos\n",
    "pd.crosstab([df_2.taxyear, df_2.condo], df_2.win,  margins=True)"
   ]
  },
  {
   "cell_type": "code",
   "execution_count": 81,
   "metadata": {
    "collapsed": false
   },
   "outputs": [
    {
     "data": {
      "image/png": "[encoded data removed]",
      "text/plain": [
       "<matplotlib.figure.Figure at 0x109db1390>"
      ]
     },
     "metadata": {},
     "output_type": "display_data"
    }
   ],
   "source": [
    "## total revision condo\n",
    "\n",
    "ax = df_2.groupby(['taxyear','condo']).median()['%_rev'].unstack().plot()\n",
    "ax.set_xlabel(\"Median % total revision for condo / not condo\")\n",
    "ax.set_ylabel(\"Median % total revision\")\n",
    "plt.savefig(os.getcwd() + \"/results/condo_median_%_rev.png\")\n",
    "\n",
    "## total revision NOT condo"
   ]
  },
  {
   "cell_type": "code",
   "execution_count": 67,
   "metadata": {
    "collapsed": false
   },
   "outputs": [
    {
     "data": {
      "text/plain": [
       "1"
      ]
     },
     "execution_count": 67,
     "metadata": {},
     "output_type": "execute_result"
    }
   ],
   "source": [
    "1"
   ]
  },
  {
   "cell_type": "code",
   "execution_count": null,
   "metadata": {
    "collapsed": true
   },
   "outputs": [],
   "source": []
  }
 ],
 "metadata": {
  "kernelspec": {
   "display_name": "Python 2",
   "language": "python",
   "name": "python2"
  },
  "language_info": {
   "codemirror_mode": {
    "name": "ipython",
    "version": 2
   },
   "file_extension": ".py",
   "mimetype": "text/x-python",
   "name": "python",
   "nbconvert_exporter": "python",
   "pygments_lexer": "ipython2",
   "version": "2.7.10"
  }
 },
 "nbformat": 4,
 "nbformat_minor": 0
}
